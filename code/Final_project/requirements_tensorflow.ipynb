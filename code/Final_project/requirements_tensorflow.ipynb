{
 "cells": [
  {
   "cell_type": "code",
   "execution_count": 1,
   "metadata": {},
   "outputs": [
    {
     "name": "stdout",
     "output_type": "stream",
     "text": [
      "Requirement already satisfied: pip in c:\\users\\yashi\\anaconda3\\envs\\project\\lib\\site-packages (21.2.2)\n",
      "Collecting pip\n",
      "  Downloading pip-22.1.1-py3-none-any.whl (2.1 MB)\n",
      "Installing collected packages: pip\n",
      "Successfully installed pip-22.1.1\n"
     ]
    },
    {
     "name": "stderr",
     "output_type": "stream",
     "text": [
      "  WARNING: The scripts pip.exe, pip3.10.exe, pip3.8.exe and pip3.exe are installed in 'C:\\Users\\yashi\\AppData\\Roaming\\Python\\Python38\\Scripts' which is not on PATH.\n",
      "  Consider adding this directory to PATH or, if you prefer to suppress this warning, use --no-warn-script-location.\n"
     ]
    }
   ],
   "source": [
    "!pip install --upgrade pip --user"
   ]
  },
  {
   "cell_type": "code",
   "execution_count": 2,
   "metadata": {
    "scrolled": true
   },
   "outputs": [
    {
     "name": "stdout",
     "output_type": "stream",
     "text": [
      "Collecting numpy\n",
      "  Downloading numpy-1.22.4-cp38-cp38-win_amd64.whl (14.8 MB)\n",
      "     --------------------------------------- 14.8/14.8 MB 10.6 MB/s eta 0:00:00\n",
      "Installing collected packages: numpy\n",
      "Successfully installed numpy-1.22.4\n",
      "Collecting matplotlib\n",
      "  Downloading matplotlib-3.5.2-cp38-cp38-win_amd64.whl (7.2 MB)\n",
      "     ---------------------------------------- 7.2/7.2 MB 3.8 MB/s eta 0:00:00\n",
      "Collecting pillow>=6.2.0\n",
      "  Downloading Pillow-9.1.1-cp38-cp38-win_amd64.whl (3.3 MB)\n",
      "     ---------------------------------------- 3.3/3.3 MB 13.9 MB/s eta 0:00:00\n",
      "Collecting kiwisolver>=1.0.1\n",
      "  Downloading kiwisolver-1.4.2-cp38-cp38-win_amd64.whl (55 kB)\n",
      "     -------------------------------------- 55.4/55.4 kB 728.3 kB/s eta 0:00:00\n",
      "Requirement already satisfied: pyparsing>=2.2.1 in c:\\users\\yashi\\anaconda3\\envs\\project\\lib\\site-packages (from matplotlib) (3.0.4)\n",
      "Requirement already satisfied: numpy>=1.17 in c:\\users\\yashi\\anaconda3\\envs\\project\\lib\\site-packages (from matplotlib) (1.22.4)\n",
      "Collecting cycler>=0.10\n",
      "  Using cached cycler-0.11.0-py3-none-any.whl (6.4 kB)\n",
      "Requirement already satisfied: packaging>=20.0 in c:\\users\\yashi\\anaconda3\\envs\\project\\lib\\site-packages (from matplotlib) (21.3)\n",
      "Requirement already satisfied: python-dateutil>=2.7 in c:\\users\\yashi\\anaconda3\\envs\\project\\lib\\site-packages (from matplotlib) (2.8.2)\n",
      "Collecting fonttools>=4.22.0\n",
      "  Using cached fonttools-4.33.3-py3-none-any.whl (930 kB)\n",
      "Requirement already satisfied: six>=1.5 in c:\\users\\yashi\\anaconda3\\envs\\project\\lib\\site-packages (from python-dateutil>=2.7->matplotlib) (1.16.0)\n",
      "Installing collected packages: pillow, kiwisolver, fonttools, cycler, matplotlib\n",
      "Successfully installed cycler-0.11.0 fonttools-4.33.3 kiwisolver-1.4.2 matplotlib-3.5.2 pillow-9.1.1\n",
      "Collecting sklearn\n",
      "  Using cached sklearn-0.0.tar.gz (1.1 kB)\n",
      "  Preparing metadata (setup.py): started\n",
      "  Preparing metadata (setup.py): finished with status 'done'\n",
      "Collecting scikit-learn\n",
      "  Downloading scikit_learn-1.1.1-cp38-cp38-win_amd64.whl (7.3 MB)\n",
      "     ---------------------------------------- 7.3/7.3 MB 7.7 MB/s eta 0:00:00\n",
      "Collecting joblib>=1.0.0\n",
      "  Using cached joblib-1.1.0-py2.py3-none-any.whl (306 kB)\n",
      "Requirement already satisfied: numpy>=1.17.3 in c:\\users\\yashi\\anaconda3\\envs\\project\\lib\\site-packages (from scikit-learn->sklearn) (1.22.4)\n",
      "Collecting threadpoolctl>=2.0.0\n",
      "  Using cached threadpoolctl-3.1.0-py3-none-any.whl (14 kB)\n",
      "Collecting scipy>=1.3.2\n",
      "  Downloading scipy-1.8.1-cp38-cp38-win_amd64.whl (36.9 MB)\n",
      "     ---------------------------------------- 36.9/36.9 MB 3.5 MB/s eta 0:00:00\n",
      "Building wheels for collected packages: sklearn\n",
      "  Building wheel for sklearn (setup.py): started\n",
      "  Building wheel for sklearn (setup.py): finished with status 'done'\n",
      "  Created wheel for sklearn: filename=sklearn-0.0-py2.py3-none-any.whl size=1310 sha256=7a3e4fccd3e05f39d2bc05f1072cdd12b0be7dece5c3a02a651ab7a9377b103a\n",
      "  Stored in directory: c:\\users\\yashi\\appdata\\local\\pip\\cache\\wheels\\22\\0b\\40\\fd3f795caaa1fb4c6cb738bc1f56100be1e57da95849bfc897\n",
      "Successfully built sklearn\n",
      "Installing collected packages: threadpoolctl, scipy, joblib, scikit-learn, sklearn\n",
      "Successfully installed joblib-1.1.0 scikit-learn-1.1.1 scipy-1.8.1 sklearn-0.0 threadpoolctl-3.1.0\n",
      "Collecting pandas\n",
      "  Downloading pandas-1.4.2-cp38-cp38-win_amd64.whl (10.6 MB)\n",
      "     ---------------------------------------- 10.6/10.6 MB 7.2 MB/s eta 0:00:00\n",
      "Requirement already satisfied: numpy>=1.18.5 in c:\\users\\yashi\\anaconda3\\envs\\project\\lib\\site-packages (from pandas) (1.22.4)\n",
      "Requirement already satisfied: python-dateutil>=2.8.1 in c:\\users\\yashi\\anaconda3\\envs\\project\\lib\\site-packages (from pandas) (2.8.2)\n",
      "Collecting pytz>=2020.1\n",
      "  Downloading pytz-2022.1-py2.py3-none-any.whl (503 kB)\n",
      "     -------------------------------------- 503.5/503.5 kB 5.2 MB/s eta 0:00:00\n",
      "Requirement already satisfied: six>=1.5 in c:\\users\\yashi\\anaconda3\\envs\\project\\lib\\site-packages (from python-dateutil>=2.8.1->pandas) (1.16.0)\n",
      "Installing collected packages: pytz, pandas\n",
      "Successfully installed pandas-1.4.2 pytz-2022.1\n",
      "Collecting opencv-python==4.3.0.36\n",
      "  Downloading opencv_python-4.3.0.36-cp38-cp38-win_amd64.whl (33.4 MB)\n",
      "     ---------------------------------------- 33.4/33.4 MB 4.6 MB/s eta 0:00:00\n",
      "Requirement already satisfied: numpy>=1.17.3 in c:\\users\\yashi\\anaconda3\\envs\\project\\lib\\site-packages (from opencv-python==4.3.0.36) (1.22.4)\n",
      "Installing collected packages: opencv-python\n",
      "Successfully installed opencv-python-4.3.0.36\n",
      "Collecting opencv-contrib-python==4.3.0.36\n",
      "  Downloading opencv_contrib_python-4.3.0.36-cp38-cp38-win_amd64.whl (40.0 MB)\n",
      "     ---------------------------------------- 40.0/40.0 MB 1.3 MB/s eta 0:00:00\n",
      "Requirement already satisfied: numpy>=1.17.3 in c:\\users\\yashi\\anaconda3\\envs\\project\\lib\\site-packages (from opencv-contrib-python==4.3.0.36) (1.22.4)\n",
      "Installing collected packages: opencv-contrib-python\n",
      "Successfully installed opencv-contrib-python-4.3.0.36\n"
     ]
    },
    {
     "name": "stderr",
     "output_type": "stream",
     "text": [
      "WARNING: The candidate selected for download or install is a yanked version: 'opencv-contrib-python' candidate (version 4.3.0.36 at https://files.pythonhosted.org/packages/55/13/bb3770397da98e66303665947a0355e306b24116f1310b4d4d612fcce593/opencv_contrib_python-4.3.0.36-cp38-cp38-win_amd64.whl#sha256=52a9679120c8c07a5eefb5dfd4d0f5955db865e1b44e5d1d703cdcedfe3a22fb (from https://pypi.org/simple/opencv-contrib-python/))\n",
      "Reason for being yanked: Release deprecated\n"
     ]
    },
    {
     "name": "stdout",
     "output_type": "stream",
     "text": [
      "Collecting nltk\n",
      "  Using cached nltk-3.7-py3-none-any.whl (1.5 MB)\n",
      "Collecting tqdm\n",
      "  Using cached tqdm-4.64.0-py2.py3-none-any.whl (78 kB)\n",
      "Requirement already satisfied: joblib in c:\\users\\yashi\\anaconda3\\envs\\project\\lib\\site-packages (from nltk) (1.1.0)\n",
      "Collecting regex>=2021.8.3\n",
      "  Downloading regex-2022.4.24-cp38-cp38-win_amd64.whl (262 kB)\n",
      "     ------------------------------------ 262.1/262.1 kB 732.2 kB/s eta 0:00:00\n",
      "Collecting click\n",
      "  Using cached click-8.1.3-py3-none-any.whl (96 kB)\n",
      "Requirement already satisfied: colorama in c:\\users\\yashi\\anaconda3\\envs\\project\\lib\\site-packages (from click->nltk) (0.4.4)\n",
      "Installing collected packages: tqdm, regex, click, nltk\n",
      "Successfully installed click-8.1.3 nltk-3.7 regex-2022.4.24 tqdm-4.64.0\n",
      "Collecting wordcloud\n",
      "  Downloading wordcloud-1.8.1-cp38-cp38-win_amd64.whl (155 kB)\n",
      "     ------------------------------------ 155.9/155.9 kB 467.0 kB/s eta 0:00:00\n",
      "Requirement already satisfied: pillow in c:\\users\\yashi\\anaconda3\\envs\\project\\lib\\site-packages (from wordcloud) (9.1.1)\n",
      "Requirement already satisfied: numpy>=1.6.1 in c:\\users\\yashi\\anaconda3\\envs\\project\\lib\\site-packages (from wordcloud) (1.22.4)\n",
      "Requirement already satisfied: matplotlib in c:\\users\\yashi\\anaconda3\\envs\\project\\lib\\site-packages (from wordcloud) (3.5.2)\n",
      "Requirement already satisfied: cycler>=0.10 in c:\\users\\yashi\\anaconda3\\envs\\project\\lib\\site-packages (from matplotlib->wordcloud) (0.11.0)\n",
      "Requirement already satisfied: kiwisolver>=1.0.1 in c:\\users\\yashi\\anaconda3\\envs\\project\\lib\\site-packages (from matplotlib->wordcloud) (1.4.2)\n",
      "Requirement already satisfied: python-dateutil>=2.7 in c:\\users\\yashi\\anaconda3\\envs\\project\\lib\\site-packages (from matplotlib->wordcloud) (2.8.2)\n",
      "Requirement already satisfied: packaging>=20.0 in c:\\users\\yashi\\anaconda3\\envs\\project\\lib\\site-packages (from matplotlib->wordcloud) (21.3)\n",
      "Requirement already satisfied: fonttools>=4.22.0 in c:\\users\\yashi\\anaconda3\\envs\\project\\lib\\site-packages (from matplotlib->wordcloud) (4.33.3)\n",
      "Requirement already satisfied: pyparsing>=2.2.1 in c:\\users\\yashi\\anaconda3\\envs\\project\\lib\\site-packages (from matplotlib->wordcloud) (3.0.4)\n",
      "Requirement already satisfied: six>=1.5 in c:\\users\\yashi\\anaconda3\\envs\\project\\lib\\site-packages (from python-dateutil>=2.7->matplotlib->wordcloud) (1.16.0)\n",
      "Installing collected packages: wordcloud\n",
      "Successfully installed wordcloud-1.8.1\n",
      "Collecting tflearn\n",
      "  Using cached tflearn-0.5.0.tar.gz (107 kB)\n",
      "  Preparing metadata (setup.py): started\n",
      "  Preparing metadata (setup.py): finished with status 'done'\n",
      "Requirement already satisfied: numpy in c:\\users\\yashi\\anaconda3\\envs\\project\\lib\\site-packages (from tflearn) (1.22.4)\n",
      "Requirement already satisfied: six in c:\\users\\yashi\\anaconda3\\envs\\project\\lib\\site-packages (from tflearn) (1.16.0)\n",
      "Requirement already satisfied: Pillow in c:\\users\\yashi\\anaconda3\\envs\\project\\lib\\site-packages (from tflearn) (9.1.1)\n",
      "Building wheels for collected packages: tflearn\n",
      "  Building wheel for tflearn (setup.py): started\n",
      "  Building wheel for tflearn (setup.py): finished with status 'done'\n",
      "  Created wheel for tflearn: filename=tflearn-0.5.0-py3-none-any.whl size=127299 sha256=7870155799bc4add2984a0c1db89b2cd8adfad343db663951ea15bdf1fb3f6e2\n",
      "  Stored in directory: c:\\users\\yashi\\appdata\\local\\pip\\cache\\wheels\\65\\9b\\15\\cb1e6b279c14ed897530d15cfd7da8e3df8a947e593f5cfe59\n",
      "Successfully built tflearn\n",
      "Installing collected packages: tflearn\n",
      "Successfully installed tflearn-0.5.0\n",
      "Collecting pymysql\n",
      "  Using cached PyMySQL-1.0.2-py3-none-any.whl (43 kB)\n",
      "Installing collected packages: pymysql\n",
      "Successfully installed pymysql-1.0.2\n",
      "Collecting flask\n",
      "  Using cached Flask-2.1.2-py3-none-any.whl (95 kB)\n",
      "Requirement already satisfied: Jinja2>=3.0 in c:\\users\\yashi\\anaconda3\\envs\\project\\lib\\site-packages (from flask) (3.0.3)\n",
      "Requirement already satisfied: click>=8.0 in c:\\users\\yashi\\anaconda3\\envs\\project\\lib\\site-packages (from flask) (8.1.3)\n",
      "Collecting importlib-metadata>=3.6.0\n",
      "  Downloading importlib_metadata-4.11.4-py3-none-any.whl (18 kB)\n",
      "Collecting itsdangerous>=2.0\n",
      "  Using cached itsdangerous-2.1.2-py3-none-any.whl (15 kB)\n",
      "Collecting Werkzeug>=2.0\n",
      "  Using cached Werkzeug-2.1.2-py3-none-any.whl (224 kB)\n",
      "Requirement already satisfied: colorama in c:\\users\\yashi\\anaconda3\\envs\\project\\lib\\site-packages (from click>=8.0->flask) (0.4.4)\n",
      "Requirement already satisfied: zipp>=0.5 in c:\\users\\yashi\\anaconda3\\envs\\project\\lib\\site-packages (from importlib-metadata>=3.6.0->flask) (3.8.0)\n",
      "Requirement already satisfied: MarkupSafe>=2.0 in c:\\users\\yashi\\anaconda3\\envs\\project\\lib\\site-packages (from Jinja2>=3.0->flask) (2.0.1)\n",
      "Installing collected packages: Werkzeug, itsdangerous, importlib-metadata, flask\n",
      "Successfully installed Werkzeug-2.1.2 flask-2.1.2 importlib-metadata-4.11.4 itsdangerous-2.1.2\n",
      "Collecting imutils\n",
      "  Downloading imutils-0.5.4.tar.gz (17 kB)\n",
      "  Preparing metadata (setup.py): started\n",
      "  Preparing metadata (setup.py): finished with status 'done'\n",
      "Building wheels for collected packages: imutils\n",
      "  Building wheel for imutils (setup.py): started\n",
      "  Building wheel for imutils (setup.py): finished with status 'done'\n",
      "  Created wheel for imutils: filename=imutils-0.5.4-py3-none-any.whl size=25872 sha256=8ac6d7193ed5e521f01002e6d4006a3436abb4893c96a4759b081840e47f8dea\n",
      "  Stored in directory: c:\\users\\yashi\\appdata\\local\\pip\\cache\\wheels\\59\\1b\\52\\0dea905f8278d5514dc4d0be5e251967f8681670cadd3dca89\n",
      "Successfully built imutils\n",
      "Installing collected packages: imutils\n",
      "Successfully installed imutils-0.5.4\n"
     ]
    }
   ],
   "source": [
    "!pip install numpy\n",
    "!pip install matplotlib\n",
    "!pip install sklearn\n",
    "!pip install pandas\n",
    "!pip install opencv-python==4.3.0.36\n",
    "!pip install opencv-contrib-python==4.3.0.36\n",
    "!pip install nltk\n",
    "!pip install wordcloud\n",
    "!pip install tflearn\n",
    "!pip install pymysql\n",
    "!pip install flask\n",
    "!pip install imutils"
   ]
  },
  {
   "cell_type": "code",
   "execution_count": 2,
   "metadata": {},
   "outputs": [],
   "source": [
    "# !pip install tensorflow==2.3.0"
   ]
  },
  {
   "cell_type": "code",
   "execution_count": null,
   "metadata": {},
   "outputs": [],
   "source": []
  },
  {
   "cell_type": "code",
   "execution_count": null,
   "metadata": {},
   "outputs": [],
   "source": []
  },
  {
   "cell_type": "code",
   "execution_count": 4,
   "metadata": {},
   "outputs": [
    {
     "name": "stdout",
     "output_type": "stream",
     "text": [
      "Requirement already satisfied: keras==2.3.1 in c:\\users\\yashi\\anaconda3\\envs\\project\\lib\\site-packages (2.3.1)\n",
      "Requirement already satisfied: h5py in c:\\users\\yashi\\anaconda3\\envs\\project\\lib\\site-packages (from keras==2.3.1) (3.6.0)\n",
      "Requirement already satisfied: keras-applications>=1.0.6 in c:\\users\\yashi\\anaconda3\\envs\\project\\lib\\site-packages (from keras==2.3.1) (1.0.8)\n",
      "Requirement already satisfied: six>=1.9.0 in c:\\users\\yashi\\anaconda3\\envs\\project\\lib\\site-packages (from keras==2.3.1) (1.16.0)\n",
      "Requirement already satisfied: numpy>=1.9.1 in c:\\users\\yashi\\anaconda3\\envs\\project\\lib\\site-packages (from keras==2.3.1) (1.22.4)\n",
      "Requirement already satisfied: pyyaml in c:\\users\\yashi\\anaconda3\\envs\\project\\lib\\site-packages (from keras==2.3.1) (6.0)\n",
      "Requirement already satisfied: keras-preprocessing>=1.0.5 in c:\\users\\yashi\\anaconda3\\envs\\project\\lib\\site-packages (from keras==2.3.1) (1.1.2)\n",
      "Requirement already satisfied: scipy>=0.14 in c:\\users\\yashi\\anaconda3\\envs\\project\\lib\\site-packages (from keras==2.3.1) (1.8.1)\n"
     ]
    }
   ],
   "source": [
    "# !pip install tensorflow==1.14.0\n",
    "!pip install keras==2.3.1"
   ]
  },
  {
   "cell_type": "code",
   "execution_count": 5,
   "metadata": {},
   "outputs": [
    {
     "name": "stdout",
     "output_type": "stream",
     "text": [
      "9.1.1\n"
     ]
    }
   ],
   "source": [
    "import PIL\n",
    "print(PIL.__version__)"
   ]
  },
  {
   "cell_type": "code",
   "execution_count": 5,
   "metadata": {
    "scrolled": true
   },
   "outputs": [
    {
     "name": "stdout",
     "output_type": "stream",
     "text": [
      "Requirement already satisfied: nltk in c:\\users\\aryan\\anaconda3\\envs\\mlprojects\\lib\\site-packages (3.7)\n",
      "Requirement already satisfied: click in c:\\users\\aryan\\anaconda3\\envs\\mlprojects\\lib\\site-packages (from nltk) (8.1.3)\n",
      "Requirement already satisfied: joblib in c:\\users\\aryan\\anaconda3\\envs\\mlprojects\\lib\\site-packages (from nltk) (1.1.0)\n",
      "Requirement already satisfied: regex>=2021.8.3 in c:\\users\\aryan\\anaconda3\\envs\\mlprojects\\lib\\site-packages (from nltk) (2022.4.24)\n",
      "Requirement already satisfied: tqdm in c:\\users\\aryan\\anaconda3\\envs\\mlprojects\\lib\\site-packages (from nltk) (4.64.0)\n",
      "Requirement already satisfied: colorama in c:\\users\\aryan\\anaconda3\\envs\\mlprojects\\lib\\site-packages (from click->nltk) (0.4.4)\n"
     ]
    },
    {
     "name": "stderr",
     "output_type": "stream",
     "text": [
      "[nltk_data] Downloading collection 'all'\n",
      "[nltk_data]    | \n",
      "[nltk_data]    | Downloading package abc to\n",
      "[nltk_data]    |     C:\\Users\\ARYAN\\AppData\\Roaming\\nltk_data...\n",
      "[nltk_data]    |   Package abc is already up-to-date!\n",
      "[nltk_data]    | Downloading package alpino to\n",
      "[nltk_data]    |     C:\\Users\\ARYAN\\AppData\\Roaming\\nltk_data...\n",
      "[nltk_data]    |   Package alpino is already up-to-date!\n",
      "[nltk_data]    | Downloading package averaged_perceptron_tagger to\n",
      "[nltk_data]    |     C:\\Users\\ARYAN\\AppData\\Roaming\\nltk_data...\n",
      "[nltk_data]    |   Package averaged_perceptron_tagger is already up-\n",
      "[nltk_data]    |       to-date!\n",
      "[nltk_data]    | Downloading package averaged_perceptron_tagger_ru to\n",
      "[nltk_data]    |     C:\\Users\\ARYAN\\AppData\\Roaming\\nltk_data...\n",
      "[nltk_data]    |   Package averaged_perceptron_tagger_ru is already\n",
      "[nltk_data]    |       up-to-date!\n",
      "[nltk_data]    | Downloading package basque_grammars to\n",
      "[nltk_data]    |     C:\\Users\\ARYAN\\AppData\\Roaming\\nltk_data...\n",
      "[nltk_data]    |   Package basque_grammars is already up-to-date!\n",
      "[nltk_data]    | Downloading package biocreative_ppi to\n",
      "[nltk_data]    |     C:\\Users\\ARYAN\\AppData\\Roaming\\nltk_data...\n",
      "[nltk_data]    |   Package biocreative_ppi is already up-to-date!\n",
      "[nltk_data]    | Downloading package bllip_wsj_no_aux to\n",
      "[nltk_data]    |     C:\\Users\\ARYAN\\AppData\\Roaming\\nltk_data...\n",
      "[nltk_data]    |   Package bllip_wsj_no_aux is already up-to-date!\n",
      "[nltk_data]    | Downloading package book_grammars to\n",
      "[nltk_data]    |     C:\\Users\\ARYAN\\AppData\\Roaming\\nltk_data...\n",
      "[nltk_data]    |   Package book_grammars is already up-to-date!\n",
      "[nltk_data]    | Downloading package brown to\n",
      "[nltk_data]    |     C:\\Users\\ARYAN\\AppData\\Roaming\\nltk_data...\n",
      "[nltk_data]    |   Package brown is already up-to-date!\n",
      "[nltk_data]    | Downloading package brown_tei to\n",
      "[nltk_data]    |     C:\\Users\\ARYAN\\AppData\\Roaming\\nltk_data...\n",
      "[nltk_data]    |   Package brown_tei is already up-to-date!\n",
      "[nltk_data]    | Downloading package cess_cat to\n",
      "[nltk_data]    |     C:\\Users\\ARYAN\\AppData\\Roaming\\nltk_data...\n",
      "[nltk_data]    |   Package cess_cat is already up-to-date!\n",
      "[nltk_data]    | Downloading package cess_esp to\n",
      "[nltk_data]    |     C:\\Users\\ARYAN\\AppData\\Roaming\\nltk_data...\n",
      "[nltk_data]    |   Package cess_esp is already up-to-date!\n",
      "[nltk_data]    | Downloading package chat80 to\n",
      "[nltk_data]    |     C:\\Users\\ARYAN\\AppData\\Roaming\\nltk_data...\n",
      "[nltk_data]    |   Package chat80 is already up-to-date!\n",
      "[nltk_data]    | Downloading package city_database to\n",
      "[nltk_data]    |     C:\\Users\\ARYAN\\AppData\\Roaming\\nltk_data...\n",
      "[nltk_data]    |   Package city_database is already up-to-date!\n",
      "[nltk_data]    | Downloading package cmudict to\n",
      "[nltk_data]    |     C:\\Users\\ARYAN\\AppData\\Roaming\\nltk_data...\n",
      "[nltk_data]    |   Package cmudict is already up-to-date!\n",
      "[nltk_data]    | Downloading package comparative_sentences to\n",
      "[nltk_data]    |     C:\\Users\\ARYAN\\AppData\\Roaming\\nltk_data...\n",
      "[nltk_data]    |   Package comparative_sentences is already up-to-\n",
      "[nltk_data]    |       date!\n",
      "[nltk_data]    | Downloading package comtrans to\n",
      "[nltk_data]    |     C:\\Users\\ARYAN\\AppData\\Roaming\\nltk_data...\n",
      "[nltk_data]    |   Package comtrans is already up-to-date!\n",
      "[nltk_data]    | Downloading package conll2000 to\n",
      "[nltk_data]    |     C:\\Users\\ARYAN\\AppData\\Roaming\\nltk_data...\n",
      "[nltk_data]    |   Package conll2000 is already up-to-date!\n",
      "[nltk_data]    | Downloading package conll2002 to\n",
      "[nltk_data]    |     C:\\Users\\ARYAN\\AppData\\Roaming\\nltk_data...\n",
      "[nltk_data]    |   Package conll2002 is already up-to-date!\n",
      "[nltk_data]    | Downloading package conll2007 to\n",
      "[nltk_data]    |     C:\\Users\\ARYAN\\AppData\\Roaming\\nltk_data...\n",
      "[nltk_data]    |   Package conll2007 is already up-to-date!\n",
      "[nltk_data]    | Downloading package crubadan to\n",
      "[nltk_data]    |     C:\\Users\\ARYAN\\AppData\\Roaming\\nltk_data...\n",
      "[nltk_data]    |   Package crubadan is already up-to-date!\n",
      "[nltk_data]    | Downloading package dependency_treebank to\n",
      "[nltk_data]    |     C:\\Users\\ARYAN\\AppData\\Roaming\\nltk_data...\n",
      "[nltk_data]    |   Package dependency_treebank is already up-to-date!\n",
      "[nltk_data]    | Downloading package dolch to\n",
      "[nltk_data]    |     C:\\Users\\ARYAN\\AppData\\Roaming\\nltk_data...\n",
      "[nltk_data]    |   Package dolch is already up-to-date!\n",
      "[nltk_data]    | Downloading package europarl_raw to\n",
      "[nltk_data]    |     C:\\Users\\ARYAN\\AppData\\Roaming\\nltk_data...\n",
      "[nltk_data]    |   Package europarl_raw is already up-to-date!\n",
      "[nltk_data]    | Downloading package extended_omw to\n",
      "[nltk_data]    |     C:\\Users\\ARYAN\\AppData\\Roaming\\nltk_data...\n",
      "[nltk_data]    |   Package extended_omw is already up-to-date!\n",
      "[nltk_data]    | Downloading package floresta to\n",
      "[nltk_data]    |     C:\\Users\\ARYAN\\AppData\\Roaming\\nltk_data...\n",
      "[nltk_data]    |   Package floresta is already up-to-date!\n",
      "[nltk_data]    | Downloading package framenet_v15 to\n",
      "[nltk_data]    |     C:\\Users\\ARYAN\\AppData\\Roaming\\nltk_data...\n",
      "[nltk_data]    |   Package framenet_v15 is already up-to-date!\n",
      "[nltk_data]    | Downloading package framenet_v17 to\n",
      "[nltk_data]    |     C:\\Users\\ARYAN\\AppData\\Roaming\\nltk_data...\n",
      "[nltk_data]    |   Package framenet_v17 is already up-to-date!\n",
      "[nltk_data]    | Downloading package gazetteers to\n",
      "[nltk_data]    |     C:\\Users\\ARYAN\\AppData\\Roaming\\nltk_data...\n",
      "[nltk_data]    |   Package gazetteers is already up-to-date!\n",
      "[nltk_data]    | Downloading package genesis to\n",
      "[nltk_data]    |     C:\\Users\\ARYAN\\AppData\\Roaming\\nltk_data...\n",
      "[nltk_data]    |   Package genesis is already up-to-date!\n",
      "[nltk_data]    | Downloading package gutenberg to\n",
      "[nltk_data]    |     C:\\Users\\ARYAN\\AppData\\Roaming\\nltk_data...\n",
      "[nltk_data]    |   Package gutenberg is already up-to-date!\n",
      "[nltk_data]    | Downloading package ieer to\n",
      "[nltk_data]    |     C:\\Users\\ARYAN\\AppData\\Roaming\\nltk_data...\n",
      "[nltk_data]    |   Package ieer is already up-to-date!\n",
      "[nltk_data]    | Downloading package inaugural to\n",
      "[nltk_data]    |     C:\\Users\\ARYAN\\AppData\\Roaming\\nltk_data...\n",
      "[nltk_data]    |   Package inaugural is already up-to-date!\n",
      "[nltk_data]    | Downloading package indian to\n",
      "[nltk_data]    |     C:\\Users\\ARYAN\\AppData\\Roaming\\nltk_data...\n",
      "[nltk_data]    |   Package indian is already up-to-date!\n",
      "[nltk_data]    | Downloading package jeita to\n",
      "[nltk_data]    |     C:\\Users\\ARYAN\\AppData\\Roaming\\nltk_data...\n",
      "[nltk_data]    |   Package jeita is already up-to-date!\n",
      "[nltk_data]    | Downloading package kimmo to\n",
      "[nltk_data]    |     C:\\Users\\ARYAN\\AppData\\Roaming\\nltk_data...\n",
      "[nltk_data]    |   Package kimmo is already up-to-date!\n",
      "[nltk_data]    | Downloading package knbc to\n",
      "[nltk_data]    |     C:\\Users\\ARYAN\\AppData\\Roaming\\nltk_data...\n",
      "[nltk_data]    |   Package knbc is already up-to-date!\n",
      "[nltk_data]    | Downloading package large_grammars to\n",
      "[nltk_data]    |     C:\\Users\\ARYAN\\AppData\\Roaming\\nltk_data...\n",
      "[nltk_data]    |   Package large_grammars is already up-to-date!\n",
      "[nltk_data]    | Downloading package lin_thesaurus to\n",
      "[nltk_data]    |     C:\\Users\\ARYAN\\AppData\\Roaming\\nltk_data...\n",
      "[nltk_data]    |   Package lin_thesaurus is already up-to-date!\n",
      "[nltk_data]    | Downloading package mac_morpho to\n",
      "[nltk_data]    |     C:\\Users\\ARYAN\\AppData\\Roaming\\nltk_data...\n",
      "[nltk_data]    |   Package mac_morpho is already up-to-date!\n",
      "[nltk_data]    | Downloading package machado to\n",
      "[nltk_data]    |     C:\\Users\\ARYAN\\AppData\\Roaming\\nltk_data...\n",
      "[nltk_data]    |   Package machado is already up-to-date!\n",
      "[nltk_data]    | Downloading package masc_tagged to\n",
      "[nltk_data]    |     C:\\Users\\ARYAN\\AppData\\Roaming\\nltk_data...\n",
      "[nltk_data]    |   Package masc_tagged is already up-to-date!\n",
      "[nltk_data]    | Downloading package maxent_ne_chunker to\n",
      "[nltk_data]    |     C:\\Users\\ARYAN\\AppData\\Roaming\\nltk_data...\n",
      "[nltk_data]    |   Package maxent_ne_chunker is already up-to-date!\n",
      "[nltk_data]    | Downloading package maxent_treebank_pos_tagger to\n",
      "[nltk_data]    |     C:\\Users\\ARYAN\\AppData\\Roaming\\nltk_data...\n",
      "[nltk_data]    |   Package maxent_treebank_pos_tagger is already up-\n",
      "[nltk_data]    |       to-date!\n",
      "[nltk_data]    | Downloading package moses_sample to\n",
      "[nltk_data]    |     C:\\Users\\ARYAN\\AppData\\Roaming\\nltk_data...\n",
      "[nltk_data]    |   Package moses_sample is already up-to-date!\n",
      "[nltk_data]    | Downloading package movie_reviews to\n",
      "[nltk_data]    |     C:\\Users\\ARYAN\\AppData\\Roaming\\nltk_data...\n"
     ]
    },
    {
     "name": "stderr",
     "output_type": "stream",
     "text": [
      "[nltk_data]    |   Package movie_reviews is already up-to-date!\n",
      "[nltk_data]    | Downloading package mte_teip5 to\n",
      "[nltk_data]    |     C:\\Users\\ARYAN\\AppData\\Roaming\\nltk_data...\n",
      "[nltk_data]    |   Package mte_teip5 is already up-to-date!\n",
      "[nltk_data]    | Downloading package mwa_ppdb to\n",
      "[nltk_data]    |     C:\\Users\\ARYAN\\AppData\\Roaming\\nltk_data...\n",
      "[nltk_data]    |   Package mwa_ppdb is already up-to-date!\n",
      "[nltk_data]    | Downloading package names to\n",
      "[nltk_data]    |     C:\\Users\\ARYAN\\AppData\\Roaming\\nltk_data...\n",
      "[nltk_data]    |   Package names is already up-to-date!\n",
      "[nltk_data]    | Downloading package nombank.1.0 to\n",
      "[nltk_data]    |     C:\\Users\\ARYAN\\AppData\\Roaming\\nltk_data...\n",
      "[nltk_data]    |   Package nombank.1.0 is already up-to-date!\n",
      "[nltk_data]    | Downloading package nonbreaking_prefixes to\n",
      "[nltk_data]    |     C:\\Users\\ARYAN\\AppData\\Roaming\\nltk_data...\n",
      "[nltk_data]    |   Package nonbreaking_prefixes is already up-to-date!\n",
      "[nltk_data]    | Downloading package nps_chat to\n",
      "[nltk_data]    |     C:\\Users\\ARYAN\\AppData\\Roaming\\nltk_data...\n",
      "[nltk_data]    |   Package nps_chat is already up-to-date!\n",
      "[nltk_data]    | Downloading package omw to\n",
      "[nltk_data]    |     C:\\Users\\ARYAN\\AppData\\Roaming\\nltk_data...\n",
      "[nltk_data]    |   Package omw is already up-to-date!\n",
      "[nltk_data]    | Downloading package omw-1.4 to\n",
      "[nltk_data]    |     C:\\Users\\ARYAN\\AppData\\Roaming\\nltk_data...\n",
      "[nltk_data]    |   Package omw-1.4 is already up-to-date!\n",
      "[nltk_data]    | Downloading package opinion_lexicon to\n",
      "[nltk_data]    |     C:\\Users\\ARYAN\\AppData\\Roaming\\nltk_data...\n",
      "[nltk_data]    |   Package opinion_lexicon is already up-to-date!\n",
      "[nltk_data]    | Downloading package panlex_swadesh to\n",
      "[nltk_data]    |     C:\\Users\\ARYAN\\AppData\\Roaming\\nltk_data...\n",
      "[nltk_data]    |   Package panlex_swadesh is already up-to-date!\n",
      "[nltk_data]    | Downloading package paradigms to\n",
      "[nltk_data]    |     C:\\Users\\ARYAN\\AppData\\Roaming\\nltk_data...\n",
      "[nltk_data]    |   Package paradigms is already up-to-date!\n",
      "[nltk_data]    | Downloading package pe08 to\n",
      "[nltk_data]    |     C:\\Users\\ARYAN\\AppData\\Roaming\\nltk_data...\n",
      "[nltk_data]    |   Package pe08 is already up-to-date!\n",
      "[nltk_data]    | Downloading package perluniprops to\n",
      "[nltk_data]    |     C:\\Users\\ARYAN\\AppData\\Roaming\\nltk_data...\n",
      "[nltk_data]    |   Package perluniprops is already up-to-date!\n",
      "[nltk_data]    | Downloading package pil to\n",
      "[nltk_data]    |     C:\\Users\\ARYAN\\AppData\\Roaming\\nltk_data...\n",
      "[nltk_data]    |   Package pil is already up-to-date!\n",
      "[nltk_data]    | Downloading package pl196x to\n",
      "[nltk_data]    |     C:\\Users\\ARYAN\\AppData\\Roaming\\nltk_data...\n",
      "[nltk_data]    |   Package pl196x is already up-to-date!\n",
      "[nltk_data]    | Downloading package porter_test to\n",
      "[nltk_data]    |     C:\\Users\\ARYAN\\AppData\\Roaming\\nltk_data...\n",
      "[nltk_data]    |   Package porter_test is already up-to-date!\n",
      "[nltk_data]    | Downloading package ppattach to\n",
      "[nltk_data]    |     C:\\Users\\ARYAN\\AppData\\Roaming\\nltk_data...\n",
      "[nltk_data]    |   Package ppattach is already up-to-date!\n",
      "[nltk_data]    | Downloading package problem_reports to\n",
      "[nltk_data]    |     C:\\Users\\ARYAN\\AppData\\Roaming\\nltk_data...\n",
      "[nltk_data]    |   Package problem_reports is already up-to-date!\n",
      "[nltk_data]    | Downloading package product_reviews_1 to\n",
      "[nltk_data]    |     C:\\Users\\ARYAN\\AppData\\Roaming\\nltk_data...\n",
      "[nltk_data]    |   Package product_reviews_1 is already up-to-date!\n",
      "[nltk_data]    | Downloading package product_reviews_2 to\n",
      "[nltk_data]    |     C:\\Users\\ARYAN\\AppData\\Roaming\\nltk_data...\n",
      "[nltk_data]    |   Package product_reviews_2 is already up-to-date!\n",
      "[nltk_data]    | Downloading package propbank to\n",
      "[nltk_data]    |     C:\\Users\\ARYAN\\AppData\\Roaming\\nltk_data...\n",
      "[nltk_data]    |   Package propbank is already up-to-date!\n",
      "[nltk_data]    | Downloading package pros_cons to\n",
      "[nltk_data]    |     C:\\Users\\ARYAN\\AppData\\Roaming\\nltk_data...\n",
      "[nltk_data]    |   Package pros_cons is already up-to-date!\n",
      "[nltk_data]    | Downloading package ptb to\n",
      "[nltk_data]    |     C:\\Users\\ARYAN\\AppData\\Roaming\\nltk_data...\n",
      "[nltk_data]    |   Package ptb is already up-to-date!\n",
      "[nltk_data]    | Downloading package punkt to\n",
      "[nltk_data]    |     C:\\Users\\ARYAN\\AppData\\Roaming\\nltk_data...\n",
      "[nltk_data]    |   Package punkt is already up-to-date!\n",
      "[nltk_data]    | Downloading package qc to\n",
      "[nltk_data]    |     C:\\Users\\ARYAN\\AppData\\Roaming\\nltk_data...\n",
      "[nltk_data]    |   Package qc is already up-to-date!\n",
      "[nltk_data]    | Downloading package reuters to\n",
      "[nltk_data]    |     C:\\Users\\ARYAN\\AppData\\Roaming\\nltk_data...\n",
      "[nltk_data]    |   Package reuters is already up-to-date!\n",
      "[nltk_data]    | Downloading package rslp to\n",
      "[nltk_data]    |     C:\\Users\\ARYAN\\AppData\\Roaming\\nltk_data...\n",
      "[nltk_data]    |   Package rslp is already up-to-date!\n",
      "[nltk_data]    | Downloading package rte to\n",
      "[nltk_data]    |     C:\\Users\\ARYAN\\AppData\\Roaming\\nltk_data...\n",
      "[nltk_data]    |   Package rte is already up-to-date!\n",
      "[nltk_data]    | Downloading package sample_grammars to\n",
      "[nltk_data]    |     C:\\Users\\ARYAN\\AppData\\Roaming\\nltk_data...\n",
      "[nltk_data]    |   Package sample_grammars is already up-to-date!\n",
      "[nltk_data]    | Downloading package semcor to\n",
      "[nltk_data]    |     C:\\Users\\ARYAN\\AppData\\Roaming\\nltk_data...\n",
      "[nltk_data]    |   Package semcor is already up-to-date!\n",
      "[nltk_data]    | Downloading package senseval to\n",
      "[nltk_data]    |     C:\\Users\\ARYAN\\AppData\\Roaming\\nltk_data...\n",
      "[nltk_data]    |   Package senseval is already up-to-date!\n",
      "[nltk_data]    | Downloading package sentence_polarity to\n",
      "[nltk_data]    |     C:\\Users\\ARYAN\\AppData\\Roaming\\nltk_data...\n",
      "[nltk_data]    |   Package sentence_polarity is already up-to-date!\n",
      "[nltk_data]    | Downloading package sentiwordnet to\n",
      "[nltk_data]    |     C:\\Users\\ARYAN\\AppData\\Roaming\\nltk_data...\n",
      "[nltk_data]    |   Package sentiwordnet is already up-to-date!\n",
      "[nltk_data]    | Downloading package shakespeare to\n",
      "[nltk_data]    |     C:\\Users\\ARYAN\\AppData\\Roaming\\nltk_data...\n",
      "[nltk_data]    |   Package shakespeare is already up-to-date!\n",
      "[nltk_data]    | Downloading package sinica_treebank to\n",
      "[nltk_data]    |     C:\\Users\\ARYAN\\AppData\\Roaming\\nltk_data...\n",
      "[nltk_data]    |   Package sinica_treebank is already up-to-date!\n",
      "[nltk_data]    | Downloading package smultron to\n",
      "[nltk_data]    |     C:\\Users\\ARYAN\\AppData\\Roaming\\nltk_data...\n",
      "[nltk_data]    |   Package smultron is already up-to-date!\n",
      "[nltk_data]    | Downloading package snowball_data to\n",
      "[nltk_data]    |     C:\\Users\\ARYAN\\AppData\\Roaming\\nltk_data...\n",
      "[nltk_data]    |   Package snowball_data is already up-to-date!\n",
      "[nltk_data]    | Downloading package spanish_grammars to\n",
      "[nltk_data]    |     C:\\Users\\ARYAN\\AppData\\Roaming\\nltk_data...\n",
      "[nltk_data]    |   Package spanish_grammars is already up-to-date!\n",
      "[nltk_data]    | Downloading package state_union to\n",
      "[nltk_data]    |     C:\\Users\\ARYAN\\AppData\\Roaming\\nltk_data...\n",
      "[nltk_data]    |   Package state_union is already up-to-date!\n",
      "[nltk_data]    | Downloading package stopwords to\n",
      "[nltk_data]    |     C:\\Users\\ARYAN\\AppData\\Roaming\\nltk_data...\n",
      "[nltk_data]    |   Package stopwords is already up-to-date!\n",
      "[nltk_data]    | Downloading package subjectivity to\n",
      "[nltk_data]    |     C:\\Users\\ARYAN\\AppData\\Roaming\\nltk_data...\n",
      "[nltk_data]    |   Package subjectivity is already up-to-date!\n",
      "[nltk_data]    | Downloading package swadesh to\n",
      "[nltk_data]    |     C:\\Users\\ARYAN\\AppData\\Roaming\\nltk_data...\n",
      "[nltk_data]    |   Package swadesh is already up-to-date!\n",
      "[nltk_data]    | Downloading package switchboard to\n",
      "[nltk_data]    |     C:\\Users\\ARYAN\\AppData\\Roaming\\nltk_data...\n",
      "[nltk_data]    |   Package switchboard is already up-to-date!\n",
      "[nltk_data]    | Downloading package tagsets to\n",
      "[nltk_data]    |     C:\\Users\\ARYAN\\AppData\\Roaming\\nltk_data...\n",
      "[nltk_data]    |   Package tagsets is already up-to-date!\n",
      "[nltk_data]    | Downloading package timit to\n",
      "[nltk_data]    |     C:\\Users\\ARYAN\\AppData\\Roaming\\nltk_data...\n",
      "[nltk_data]    |   Package timit is already up-to-date!\n",
      "[nltk_data]    | Downloading package toolbox to\n",
      "[nltk_data]    |     C:\\Users\\ARYAN\\AppData\\Roaming\\nltk_data...\n",
      "[nltk_data]    |   Package toolbox is already up-to-date!\n",
      "[nltk_data]    | Downloading package treebank to\n",
      "[nltk_data]    |     C:\\Users\\ARYAN\\AppData\\Roaming\\nltk_data...\n",
      "[nltk_data]    |   Package treebank is already up-to-date!\n",
      "[nltk_data]    | Downloading package twitter_samples to\n",
      "[nltk_data]    |     C:\\Users\\ARYAN\\AppData\\Roaming\\nltk_data...\n",
      "[nltk_data]    |   Package twitter_samples is already up-to-date!\n",
      "[nltk_data]    | Downloading package udhr to\n",
      "[nltk_data]    |     C:\\Users\\ARYAN\\AppData\\Roaming\\nltk_data...\n"
     ]
    },
    {
     "name": "stderr",
     "output_type": "stream",
     "text": [
      "[nltk_data]    |   Package udhr is already up-to-date!\n",
      "[nltk_data]    | Downloading package udhr2 to\n",
      "[nltk_data]    |     C:\\Users\\ARYAN\\AppData\\Roaming\\nltk_data...\n",
      "[nltk_data]    |   Package udhr2 is already up-to-date!\n",
      "[nltk_data]    | Downloading package unicode_samples to\n",
      "[nltk_data]    |     C:\\Users\\ARYAN\\AppData\\Roaming\\nltk_data...\n",
      "[nltk_data]    |   Package unicode_samples is already up-to-date!\n",
      "[nltk_data]    | Downloading package universal_tagset to\n",
      "[nltk_data]    |     C:\\Users\\ARYAN\\AppData\\Roaming\\nltk_data...\n",
      "[nltk_data]    |   Package universal_tagset is already up-to-date!\n",
      "[nltk_data]    | Downloading package universal_treebanks_v20 to\n",
      "[nltk_data]    |     C:\\Users\\ARYAN\\AppData\\Roaming\\nltk_data...\n",
      "[nltk_data]    |   Package universal_treebanks_v20 is already up-to-\n",
      "[nltk_data]    |       date!\n",
      "[nltk_data]    | Downloading package vader_lexicon to\n",
      "[nltk_data]    |     C:\\Users\\ARYAN\\AppData\\Roaming\\nltk_data...\n",
      "[nltk_data]    |   Package vader_lexicon is already up-to-date!\n",
      "[nltk_data]    | Downloading package verbnet to\n",
      "[nltk_data]    |     C:\\Users\\ARYAN\\AppData\\Roaming\\nltk_data...\n",
      "[nltk_data]    |   Package verbnet is already up-to-date!\n",
      "[nltk_data]    | Downloading package verbnet3 to\n",
      "[nltk_data]    |     C:\\Users\\ARYAN\\AppData\\Roaming\\nltk_data...\n",
      "[nltk_data]    |   Package verbnet3 is already up-to-date!\n",
      "[nltk_data]    | Downloading package webtext to\n",
      "[nltk_data]    |     C:\\Users\\ARYAN\\AppData\\Roaming\\nltk_data...\n",
      "[nltk_data]    |   Package webtext is already up-to-date!\n",
      "[nltk_data]    | Downloading package wmt15_eval to\n",
      "[nltk_data]    |     C:\\Users\\ARYAN\\AppData\\Roaming\\nltk_data...\n",
      "[nltk_data]    |   Package wmt15_eval is already up-to-date!\n",
      "[nltk_data]    | Downloading package word2vec_sample to\n",
      "[nltk_data]    |     C:\\Users\\ARYAN\\AppData\\Roaming\\nltk_data...\n",
      "[nltk_data]    |   Package word2vec_sample is already up-to-date!\n",
      "[nltk_data]    | Downloading package wordnet to\n",
      "[nltk_data]    |     C:\\Users\\ARYAN\\AppData\\Roaming\\nltk_data...\n",
      "[nltk_data]    |   Package wordnet is already up-to-date!\n",
      "[nltk_data]    | Downloading package wordnet2021 to\n",
      "[nltk_data]    |     C:\\Users\\ARYAN\\AppData\\Roaming\\nltk_data...\n",
      "[nltk_data]    |   Package wordnet2021 is already up-to-date!\n",
      "[nltk_data]    | Downloading package wordnet31 to\n",
      "[nltk_data]    |     C:\\Users\\ARYAN\\AppData\\Roaming\\nltk_data...\n",
      "[nltk_data]    |   Package wordnet31 is already up-to-date!\n",
      "[nltk_data]    | Downloading package wordnet_ic to\n",
      "[nltk_data]    |     C:\\Users\\ARYAN\\AppData\\Roaming\\nltk_data...\n",
      "[nltk_data]    |   Package wordnet_ic is already up-to-date!\n",
      "[nltk_data]    | Downloading package words to\n",
      "[nltk_data]    |     C:\\Users\\ARYAN\\AppData\\Roaming\\nltk_data...\n",
      "[nltk_data]    |   Package words is already up-to-date!\n",
      "[nltk_data]    | Downloading package ycoe to\n",
      "[nltk_data]    |     C:\\Users\\ARYAN\\AppData\\Roaming\\nltk_data...\n",
      "[nltk_data]    |   Package ycoe is already up-to-date!\n",
      "[nltk_data]    | \n",
      "[nltk_data]  Done downloading collection all\n"
     ]
    },
    {
     "data": {
      "text/plain": [
       "True"
      ]
     },
     "execution_count": 5,
     "metadata": {},
     "output_type": "execute_result"
    }
   ],
   "source": [
    "!pip install nltk\n",
    "import nltk\n",
    "nltk.download('all')"
   ]
  },
  {
   "cell_type": "code",
   "execution_count": 6,
   "metadata": {},
   "outputs": [
    {
     "name": "stdout",
     "output_type": "stream",
     "text": [
      "Requirement already satisfied: pip in c:\\users\\aryan\\appdata\\roaming\\python\\python38\\site-packages (22.1)\n",
      "Note: you may need to restart the kernel to use updated packages.\n"
     ]
    }
   ],
   "source": [
    "pip install --upgrade pip --user"
   ]
  },
  {
   "cell_type": "code",
   "execution_count": 6,
   "metadata": {
    "scrolled": false
   },
   "outputs": [
    {
     "name": "stdout",
     "output_type": "stream",
     "text": [
      "Requirement already satisfied: setuptools in c:\\users\\yashi\\anaconda3\\envs\\project\\lib\\site-packages (61.2.0)\n",
      "Collecting setuptools\n",
      "  Downloading setuptools-62.3.2-py3-none-any.whl (1.2 MB)\n",
      "     ---------------------------------------- 1.2/1.2 MB 2.1 MB/s eta 0:00:00\n",
      "Installing collected packages: setuptools\n",
      "  Attempting uninstall: setuptools\n",
      "    Found existing installation: setuptools 61.2.0\n",
      "    Uninstalling setuptools-61.2.0:\n",
      "      Successfully uninstalled setuptools-61.2.0\n",
      "Successfully installed setuptools-62.3.2\n",
      "Note: you may need to restart the kernel to use updated packages.\n"
     ]
    }
   ],
   "source": [
    "pip install --upgrade setuptools"
   ]
  },
  {
   "cell_type": "code",
   "execution_count": null,
   "metadata": {},
   "outputs": [],
   "source": [
    "!pip install https://pypi.python.org/packages/da/06/bd3e241c4eb0a662914b3b4875fc52dd176a9db0d4a2c915ac2ad8800e9e/dlib-19.7.0-cp36-cp36m-win_amd64.whl"
   ]
  },
  {
   "cell_type": "code",
   "execution_count": 10,
   "metadata": {
    "scrolled": true
   },
   "outputs": [
    {
     "name": "stdout",
     "output_type": "stream",
     "text": [
      "Collecting tensorflow==2.3.0\n",
      "  Downloading tensorflow-2.3.0-cp38-cp38-win_amd64.whl (342.5 MB)\n",
      "     ---------------------------------------- 342.5/342.5 MB ? eta 0:00:00\n",
      "Requirement already satisfied: h5py<2.11.0,>=2.10.0 in c:\\users\\yashi\\anaconda3\\envs\\project\\lib\\site-packages (from tensorflow==2.3.0) (2.10.0)\n",
      "Collecting scipy==1.4.1\n",
      "  Downloading scipy-1.4.1-cp38-cp38-win_amd64.whl (31.0 MB)\n",
      "     ---------------------------------------- 31.0/31.0 MB 4.3 MB/s eta 0:00:00\n",
      "Collecting astunparse==1.6.3\n",
      "  Using cached astunparse-1.6.3-py2.py3-none-any.whl (12 kB)\n",
      "Collecting protobuf>=3.9.2\n",
      "  Downloading protobuf-3.20.1-cp38-cp38-win_amd64.whl (904 kB)\n",
      "     -------------------------------------- 904.4/904.4 kB 4.4 MB/s eta 0:00:00\n",
      "Collecting gast==0.3.3\n",
      "  Using cached gast-0.3.3-py2.py3-none-any.whl (9.7 kB)\n",
      "Collecting absl-py>=0.7.0\n",
      "  Using cached absl_py-1.0.0-py3-none-any.whl (126 kB)\n",
      "Collecting grpcio>=1.8.6\n",
      "  Downloading grpcio-1.46.3-cp38-cp38-win_amd64.whl (3.5 MB)\n",
      "     ---------------------------------------- 3.5/3.5 MB 10.7 MB/s eta 0:00:00\n",
      "Collecting wrapt>=1.11.1\n",
      "  Downloading wrapt-1.14.1-cp38-cp38-win_amd64.whl (35 kB)\n",
      "Collecting tensorflow-estimator<2.4.0,>=2.3.0\n",
      "  Downloading tensorflow_estimator-2.3.0-py2.py3-none-any.whl (459 kB)\n",
      "     -------------------------------------- 459.0/459.0 kB 3.6 MB/s eta 0:00:00\n",
      "Collecting numpy<1.19.0,>=1.16.0\n",
      "  Downloading numpy-1.18.5-cp38-cp38-win_amd64.whl (12.8 MB)\n",
      "     --------------------------------------- 12.8/12.8 MB 12.1 MB/s eta 0:00:00\n",
      "Requirement already satisfied: six>=1.12.0 in c:\\users\\yashi\\anaconda3\\envs\\project\\lib\\site-packages (from tensorflow==2.3.0) (1.16.0)\n",
      "Requirement already satisfied: keras-preprocessing<1.2,>=1.1.1 in c:\\users\\yashi\\anaconda3\\envs\\project\\lib\\site-packages (from tensorflow==2.3.0) (1.1.2)\n",
      "Requirement already satisfied: wheel>=0.26 in c:\\users\\yashi\\anaconda3\\envs\\project\\lib\\site-packages (from tensorflow==2.3.0) (0.37.1)\n",
      "Collecting google-pasta>=0.1.8\n",
      "  Using cached google_pasta-0.2.0-py3-none-any.whl (57 kB)\n",
      "Collecting termcolor>=1.1.0\n",
      "  Using cached termcolor-1.1.0.tar.gz (3.9 kB)\n",
      "  Preparing metadata (setup.py): started\n",
      "  Preparing metadata (setup.py): finished with status 'done'\n",
      "Collecting tensorboard<3,>=2.3.0\n",
      "  Downloading tensorboard-2.9.0-py3-none-any.whl (5.8 MB)\n",
      "     ---------------------------------------- 5.8/5.8 MB 10.0 MB/s eta 0:00:00\n",
      "Collecting opt-einsum>=2.3.2\n",
      "  Downloading opt_einsum-3.3.0-py3-none-any.whl (65 kB)\n",
      "     -------------------------------------- 65.5/65.5 kB 876.9 kB/s eta 0:00:00\n",
      "Collecting markdown>=2.6.8\n",
      "  Using cached Markdown-3.3.7-py3-none-any.whl (97 kB)\n",
      "Collecting requests<3,>=2.21.0\n",
      "  Downloading requests-2.27.1-py2.py3-none-any.whl (63 kB)\n",
      "     -------------------------------------- 63.1/63.1 kB 568.7 kB/s eta 0:00:00\n",
      "Requirement already satisfied: werkzeug>=1.0.1 in c:\\users\\yashi\\anaconda3\\envs\\project\\lib\\site-packages (from tensorboard<3,>=2.3.0->tensorflow==2.3.0) (2.1.2)\n",
      "Requirement already satisfied: setuptools>=41.0.0 in c:\\users\\yashi\\anaconda3\\envs\\project\\lib\\site-packages (from tensorboard<3,>=2.3.0->tensorflow==2.3.0) (62.3.2)\n",
      "Collecting tensorboard-data-server<0.7.0,>=0.6.0\n",
      "  Downloading tensorboard_data_server-0.6.1-py3-none-any.whl (2.4 kB)\n",
      "Collecting google-auth<3,>=1.6.3\n",
      "  Downloading google_auth-2.6.6-py2.py3-none-any.whl (156 kB)\n",
      "     -------------------------------------- 156.7/156.7 kB 1.6 MB/s eta 0:00:00\n",
      "Collecting tensorboard-plugin-wit>=1.6.0\n",
      "  Downloading tensorboard_plugin_wit-1.8.1-py3-none-any.whl (781 kB)\n",
      "     -------------------------------------- 781.3/781.3 kB 5.5 MB/s eta 0:00:00\n",
      "Collecting google-auth-oauthlib<0.5,>=0.4.1\n",
      "  Downloading google_auth_oauthlib-0.4.6-py2.py3-none-any.whl (18 kB)\n",
      "Collecting cachetools<6.0,>=2.0.0\n",
      "  Downloading cachetools-5.1.0-py3-none-any.whl (9.2 kB)\n",
      "Collecting rsa<5,>=3.1.4\n",
      "  Downloading rsa-4.8-py3-none-any.whl (39 kB)\n",
      "Collecting pyasn1-modules>=0.2.1\n",
      "  Using cached pyasn1_modules-0.2.8-py2.py3-none-any.whl (155 kB)\n",
      "Collecting requests-oauthlib>=0.7.0\n",
      "  Downloading requests_oauthlib-1.3.1-py2.py3-none-any.whl (23 kB)\n",
      "Requirement already satisfied: importlib-metadata>=4.4 in c:\\users\\yashi\\anaconda3\\envs\\project\\lib\\site-packages (from markdown>=2.6.8->tensorboard<3,>=2.3.0->tensorflow==2.3.0) (4.11.4)\n",
      "Collecting idna<4,>=2.5\n",
      "  Downloading idna-3.3-py3-none-any.whl (61 kB)\n",
      "     -------------------------------------- 61.2/61.2 kB 644.6 kB/s eta 0:00:00\n",
      "Collecting urllib3<1.27,>=1.21.1\n",
      "  Downloading urllib3-1.26.9-py2.py3-none-any.whl (138 kB)\n",
      "     ------------------------------------ 139.0/139.0 kB 587.9 kB/s eta 0:00:00\n",
      "Requirement already satisfied: certifi>=2017.4.17 in c:\\users\\yashi\\anaconda3\\envs\\project\\lib\\site-packages (from requests<3,>=2.21.0->tensorboard<3,>=2.3.0->tensorflow==2.3.0) (2022.5.18.1)\n",
      "Collecting charset-normalizer~=2.0.0\n",
      "  Downloading charset_normalizer-2.0.12-py3-none-any.whl (39 kB)\n",
      "Requirement already satisfied: zipp>=0.5 in c:\\users\\yashi\\anaconda3\\envs\\project\\lib\\site-packages (from importlib-metadata>=4.4->markdown>=2.6.8->tensorboard<3,>=2.3.0->tensorflow==2.3.0) (3.8.0)\n",
      "Collecting pyasn1<0.5.0,>=0.4.6\n",
      "  Using cached pyasn1-0.4.8-py2.py3-none-any.whl (77 kB)\n",
      "Collecting oauthlib>=3.0.0\n",
      "  Downloading oauthlib-3.2.0-py3-none-any.whl (151 kB)\n",
      "     -------------------------------------- 151.5/151.5 kB 2.2 MB/s eta 0:00:00\n",
      "Building wheels for collected packages: termcolor\n",
      "  Building wheel for termcolor (setup.py): started\n",
      "  Building wheel for termcolor (setup.py): finished with status 'done'\n",
      "  Created wheel for termcolor: filename=termcolor-1.1.0-py3-none-any.whl size=4832 sha256=4b7dc013d1b3fd6646a8789cbfea264f40148bcb44d0edb35a4a7b127accdcff\n",
      "  Stored in directory: c:\\users\\yashi\\appdata\\local\\pip\\cache\\wheels\\a0\\16\\9c\\5473df82468f958445479c59e784896fa24f4a5fc024b0f501\n",
      "Successfully built termcolor\n",
      "Installing collected packages: termcolor, tensorflow-estimator, tensorboard-plugin-wit, pyasn1, wrapt, urllib3, tensorboard-data-server, rsa, pyasn1-modules, protobuf, oauthlib, numpy, idna, grpcio, google-pasta, gast, charset-normalizer, cachetools, astunparse, absl-py, scipy, requests, opt-einsum, markdown, google-auth, requests-oauthlib, google-auth-oauthlib, tensorboard, tensorflow\n",
      "Successfully installed absl-py-1.0.0 astunparse-1.6.3 cachetools-5.1.0 charset-normalizer-2.0.12 gast-0.3.3 google-auth-2.6.6 google-auth-oauthlib-0.4.6 google-pasta-0.2.0 grpcio-1.46.3 idna-3.3 markdown-3.3.7 numpy-1.18.5 oauthlib-3.2.0 opt-einsum-3.3.0 protobuf-3.20.1 pyasn1-0.4.8 pyasn1-modules-0.2.8 requests-2.27.1 requests-oauthlib-1.3.1 rsa-4.8 scipy-1.4.1 tensorboard-2.9.0 tensorboard-data-server-0.6.1 tensorboard-plugin-wit-1.8.1 tensorflow-2.3.0 tensorflow-estimator-2.3.0 termcolor-1.1.0 urllib3-1.26.9 wrapt-1.14.1\n"
     ]
    },
    {
     "name": "stderr",
     "output_type": "stream",
     "text": [
      "  WARNING: The scripts pyrsa-decrypt.exe, pyrsa-encrypt.exe, pyrsa-keygen.exe, pyrsa-priv2pub.exe, pyrsa-sign.exe and pyrsa-verify.exe are installed in 'C:\\Users\\yashi\\AppData\\Roaming\\Python\\Python38\\Scripts' which is not on PATH.\n",
      "  Consider adding this directory to PATH or, if you prefer to suppress this warning, use --no-warn-script-location.\n",
      "  WARNING: The script f2py.exe is installed in 'C:\\Users\\yashi\\AppData\\Roaming\\Python\\Python38\\Scripts' which is not on PATH.\n",
      "  Consider adding this directory to PATH or, if you prefer to suppress this warning, use --no-warn-script-location.\n",
      "  WARNING: The script normalizer.exe is installed in 'C:\\Users\\yashi\\AppData\\Roaming\\Python\\Python38\\Scripts' which is not on PATH.\n",
      "  Consider adding this directory to PATH or, if you prefer to suppress this warning, use --no-warn-script-location.\n",
      "  WARNING: The script markdown_py.exe is installed in 'C:\\Users\\yashi\\AppData\\Roaming\\Python\\Python38\\Scripts' which is not on PATH.\n",
      "  Consider adding this directory to PATH or, if you prefer to suppress this warning, use --no-warn-script-location.\n",
      "  WARNING: The script google-oauthlib-tool.exe is installed in 'C:\\Users\\yashi\\AppData\\Roaming\\Python\\Python38\\Scripts' which is not on PATH.\n",
      "  Consider adding this directory to PATH or, if you prefer to suppress this warning, use --no-warn-script-location.\n",
      "  WARNING: The script tensorboard.exe is installed in 'C:\\Users\\yashi\\AppData\\Roaming\\Python\\Python38\\Scripts' which is not on PATH.\n",
      "  Consider adding this directory to PATH or, if you prefer to suppress this warning, use --no-warn-script-location.\n",
      "  WARNING: The scripts estimator_ckpt_converter.exe, saved_model_cli.exe, tensorboard.exe, tf_upgrade_v2.exe, tflite_convert.exe, toco.exe and toco_from_protos.exe are installed in 'C:\\Users\\yashi\\AppData\\Roaming\\Python\\Python38\\Scripts' which is not on PATH.\n",
      "  Consider adding this directory to PATH or, if you prefer to suppress this warning, use --no-warn-script-location.\n"
     ]
    }
   ],
   "source": [
    "!pip install tensorflow==2.3.0 --user"
   ]
  },
  {
   "cell_type": "code",
   "execution_count": 1,
   "metadata": {},
   "outputs": [],
   "source": [
    "import tensorflow as tf"
   ]
  },
  {
   "cell_type": "code",
   "execution_count": 13,
   "metadata": {},
   "outputs": [
    {
     "name": "stdout",
     "output_type": "stream",
     "text": [
      "Requirement already satisfied: numpy in c:\\users\\yashi\\appdata\\roaming\\python\\python38\\site-packages (1.18.5)\n",
      "Note: you may need to restart the kernel to use updated packages.\n"
     ]
    }
   ],
   "source": [
    "pip install numpy"
   ]
  },
  {
   "cell_type": "code",
   "execution_count": 14,
   "metadata": {},
   "outputs": [],
   "source": [
    "import numpy as np"
   ]
  },
  {
   "cell_type": "code",
   "execution_count": 15,
   "metadata": {},
   "outputs": [
    {
     "name": "stdout",
     "output_type": "stream",
     "text": [
      "Requirement already satisfied: h5py==2.10.0 in c:\\users\\yashi\\anaconda3\\envs\\project\\lib\\site-packages (2.10.0)\n",
      "Requirement already satisfied: numpy>=1.7 in c:\\users\\yashi\\appdata\\roaming\\python\\python38\\site-packages (from h5py==2.10.0) (1.18.5)\n",
      "Requirement already satisfied: six in c:\\users\\yashi\\anaconda3\\envs\\project\\lib\\site-packages (from h5py==2.10.0) (1.16.0)\n"
     ]
    }
   ],
   "source": [
    "!pip install h5py==2.10.0"
   ]
  },
  {
   "cell_type": "code",
   "execution_count": null,
   "metadata": {},
   "outputs": [],
   "source": [
    "!pip install tensorflow-tensorboard==1.15.0"
   ]
  },
  {
   "cell_type": "code",
   "execution_count": 9,
   "metadata": {},
   "outputs": [
    {
     "name": "stdout",
     "output_type": "stream",
     "text": [
      "^C\n"
     ]
    }
   ],
   "source": [
    "!pip install tensorflow-gpu==2.3.0"
   ]
  },
  {
   "cell_type": "code",
   "execution_count": 16,
   "metadata": {
    "scrolled": true
   },
   "outputs": [
    {
     "name": "stdout",
     "output_type": "stream",
     "text": [
      "Collecting tensorflow-gpu"
     ]
    },
    {
     "name": "stderr",
     "output_type": "stream",
     "text": [
      "  WARNING: No metadata found in c:\\users\\yashi\\appdata\\roaming\\python\\python38\\site-packages\n",
      "ERROR: Could not install packages due to an OSError: [WinError 5] Access is denied: 'C:\\\\Users\\\\yashi\\\\anaconda3\\\\envs\\\\project\\\\Lib\\\\site-packages\\\\numpy\\\\.libs\\\\libopenblas.EL2C6PLE4ZYW3ECEVIV3OXXGRN2NRFM2.gfortran-win_amd64.dll'\n",
      "Consider using the `--user` option or check the permissions.\n",
      "\n"
     ]
    },
    {
     "name": "stdout",
     "output_type": "stream",
     "text": [
      "\n",
      "  Downloading tensorflow_gpu-2.9.0-cp38-cp38-win_amd64.whl (444.1 MB)\n",
      "     ---------------------------------------- 444.1/444.1 MB ? eta 0:00:00\n",
      "Requirement already satisfied: tensorboard<2.10,>=2.9 in c:\\users\\yashi\\appdata\\roaming\\python\\python38\\site-packages (from tensorflow-gpu) (2.9.0)\n",
      "Requirement already satisfied: packaging in c:\\users\\yashi\\anaconda3\\envs\\project\\lib\\site-packages (from tensorflow-gpu) (21.3)\n",
      "Requirement already satisfied: termcolor>=1.1.0 in c:\\users\\yashi\\appdata\\roaming\\python\\python38\\site-packages (from tensorflow-gpu) (1.1.0)\n",
      "Requirement already satisfied: absl-py>=1.0.0 in c:\\users\\yashi\\appdata\\roaming\\python\\python38\\site-packages (from tensorflow-gpu) (1.0.0)\n",
      "Collecting keras<2.10.0,>=2.9.0rc0\n",
      "  Downloading keras-2.9.0-py2.py3-none-any.whl (1.6 MB)\n",
      "     ---------------------------------------- 1.6/1.6 MB 12.9 MB/s eta 0:00:00\n",
      "Requirement already satisfied: gast<=0.4.0,>=0.2.1 in c:\\users\\yashi\\appdata\\roaming\\python\\python38\\site-packages (from tensorflow-gpu) (0.3.3)\n",
      "Requirement already satisfied: google-pasta>=0.1.1 in c:\\users\\yashi\\appdata\\roaming\\python\\python38\\site-packages (from tensorflow-gpu) (0.2.0)\n",
      "Requirement already satisfied: opt-einsum>=2.3.2 in c:\\users\\yashi\\appdata\\roaming\\python\\python38\\site-packages (from tensorflow-gpu) (3.3.0)\n",
      "Requirement already satisfied: astunparse>=1.6.0 in c:\\users\\yashi\\appdata\\roaming\\python\\python38\\site-packages (from tensorflow-gpu) (1.6.3)\n",
      "Collecting numpy>=1.20\n",
      "  Using cached numpy-1.22.4-cp38-cp38-win_amd64.whl (14.8 MB)\n",
      "Requirement already satisfied: six>=1.12.0 in c:\\users\\yashi\\anaconda3\\envs\\project\\lib\\site-packages (from tensorflow-gpu) (1.16.0)\n",
      "Requirement already satisfied: keras-preprocessing>=1.1.1 in c:\\users\\yashi\\anaconda3\\envs\\project\\lib\\site-packages (from tensorflow-gpu) (1.1.2)\n",
      "Requirement already satisfied: grpcio<2.0,>=1.24.3 in c:\\users\\yashi\\appdata\\roaming\\python\\python38\\site-packages (from tensorflow-gpu) (1.46.3)\n",
      "Requirement already satisfied: protobuf>=3.9.2 in c:\\users\\yashi\\appdata\\roaming\\python\\python38\\site-packages (from tensorflow-gpu) (3.20.1)\n",
      "Requirement already satisfied: setuptools in c:\\users\\yashi\\anaconda3\\envs\\project\\lib\\site-packages (from tensorflow-gpu) (62.3.2)\n",
      "Requirement already satisfied: typing-extensions>=3.6.6 in c:\\users\\yashi\\anaconda3\\envs\\project\\lib\\site-packages (from tensorflow-gpu) (4.1.1)\n",
      "Collecting tensorflow-io-gcs-filesystem>=0.23.1\n",
      "  Downloading tensorflow_io_gcs_filesystem-0.26.0-cp38-cp38-win_amd64.whl (1.5 MB)\n",
      "     ---------------------------------------- 1.5/1.5 MB 4.6 MB/s eta 0:00:00\n",
      "Requirement already satisfied: h5py>=2.9.0 in c:\\users\\yashi\\anaconda3\\envs\\project\\lib\\site-packages (from tensorflow-gpu) (2.10.0)\n",
      "Collecting tensorflow-estimator<2.10.0,>=2.9.0rc0\n",
      "  Downloading tensorflow_estimator-2.9.0-py2.py3-none-any.whl (438 kB)\n",
      "     -------------------------------------- 438.7/438.7 kB 2.0 MB/s eta 0:00:00\n",
      "Collecting flatbuffers<2,>=1.12\n",
      "  Downloading flatbuffers-1.12-py2.py3-none-any.whl (15 kB)\n",
      "Collecting libclang>=13.0.0\n",
      "  Downloading libclang-14.0.1-py2.py3-none-win_amd64.whl (14.2 MB)\n",
      "     ---------------------------------------- 14.2/14.2 MB 8.1 MB/s eta 0:00:00\n",
      "Requirement already satisfied: wrapt>=1.11.0 in c:\\users\\yashi\\appdata\\roaming\\python\\python38\\site-packages (from tensorflow-gpu) (1.14.1)\n",
      "Requirement already satisfied: wheel<1.0,>=0.23.0 in c:\\users\\yashi\\anaconda3\\envs\\project\\lib\\site-packages (from astunparse>=1.6.0->tensorflow-gpu) (0.37.1)\n",
      "Requirement already satisfied: google-auth<3,>=1.6.3 in c:\\users\\yashi\\appdata\\roaming\\python\\python38\\site-packages (from tensorboard<2.10,>=2.9->tensorflow-gpu) (2.6.6)\n",
      "Requirement already satisfied: tensorboard-plugin-wit>=1.6.0 in c:\\users\\yashi\\appdata\\roaming\\python\\python38\\site-packages (from tensorboard<2.10,>=2.9->tensorflow-gpu) (1.8.1)\n",
      "Requirement already satisfied: werkzeug>=1.0.1 in c:\\users\\yashi\\anaconda3\\envs\\project\\lib\\site-packages (from tensorboard<2.10,>=2.9->tensorflow-gpu) (2.1.2)\n",
      "Requirement already satisfied: tensorboard-data-server<0.7.0,>=0.6.0 in c:\\users\\yashi\\appdata\\roaming\\python\\python38\\site-packages (from tensorboard<2.10,>=2.9->tensorflow-gpu) (0.6.1)\n",
      "Requirement already satisfied: markdown>=2.6.8 in c:\\users\\yashi\\appdata\\roaming\\python\\python38\\site-packages (from tensorboard<2.10,>=2.9->tensorflow-gpu) (3.3.7)\n",
      "Requirement already satisfied: google-auth-oauthlib<0.5,>=0.4.1 in c:\\users\\yashi\\appdata\\roaming\\python\\python38\\site-packages (from tensorboard<2.10,>=2.9->tensorflow-gpu) (0.4.6)\n",
      "Requirement already satisfied: requests<3,>=2.21.0 in c:\\users\\yashi\\appdata\\roaming\\python\\python38\\site-packages (from tensorboard<2.10,>=2.9->tensorflow-gpu) (2.27.1)\n",
      "Requirement already satisfied: pyparsing!=3.0.5,>=2.0.2 in c:\\users\\yashi\\anaconda3\\envs\\project\\lib\\site-packages (from packaging->tensorflow-gpu) (3.0.4)\n",
      "Requirement already satisfied: pyasn1-modules>=0.2.1 in c:\\users\\yashi\\appdata\\roaming\\python\\python38\\site-packages (from google-auth<3,>=1.6.3->tensorboard<2.10,>=2.9->tensorflow-gpu) (0.2.8)\n",
      "Requirement already satisfied: cachetools<6.0,>=2.0.0 in c:\\users\\yashi\\appdata\\roaming\\python\\python38\\site-packages (from google-auth<3,>=1.6.3->tensorboard<2.10,>=2.9->tensorflow-gpu) (5.1.0)\n",
      "Requirement already satisfied: rsa<5,>=3.1.4 in c:\\users\\yashi\\appdata\\roaming\\python\\python38\\site-packages (from google-auth<3,>=1.6.3->tensorboard<2.10,>=2.9->tensorflow-gpu) (4.8)\n",
      "Requirement already satisfied: requests-oauthlib>=0.7.0 in c:\\users\\yashi\\appdata\\roaming\\python\\python38\\site-packages (from google-auth-oauthlib<0.5,>=0.4.1->tensorboard<2.10,>=2.9->tensorflow-gpu) (1.3.1)\n",
      "Requirement already satisfied: importlib-metadata>=4.4 in c:\\users\\yashi\\anaconda3\\envs\\project\\lib\\site-packages (from markdown>=2.6.8->tensorboard<2.10,>=2.9->tensorflow-gpu) (4.11.4)\n",
      "Requirement already satisfied: charset-normalizer~=2.0.0 in c:\\users\\yashi\\appdata\\roaming\\python\\python38\\site-packages (from requests<3,>=2.21.0->tensorboard<2.10,>=2.9->tensorflow-gpu) (2.0.12)\n",
      "Requirement already satisfied: idna<4,>=2.5 in c:\\users\\yashi\\appdata\\roaming\\python\\python38\\site-packages (from requests<3,>=2.21.0->tensorboard<2.10,>=2.9->tensorflow-gpu) (3.3)\n",
      "Requirement already satisfied: urllib3<1.27,>=1.21.1 in c:\\users\\yashi\\appdata\\roaming\\python\\python38\\site-packages (from requests<3,>=2.21.0->tensorboard<2.10,>=2.9->tensorflow-gpu) (1.26.9)\n",
      "Requirement already satisfied: certifi>=2017.4.17 in c:\\users\\yashi\\anaconda3\\envs\\project\\lib\\site-packages (from requests<3,>=2.21.0->tensorboard<2.10,>=2.9->tensorflow-gpu) (2022.5.18.1)\n",
      "Requirement already satisfied: zipp>=0.5 in c:\\users\\yashi\\anaconda3\\envs\\project\\lib\\site-packages (from importlib-metadata>=4.4->markdown>=2.6.8->tensorboard<2.10,>=2.9->tensorflow-gpu) (3.8.0)\n",
      "Requirement already satisfied: pyasn1<0.5.0,>=0.4.6 in c:\\users\\yashi\\appdata\\roaming\\python\\python38\\site-packages (from pyasn1-modules>=0.2.1->google-auth<3,>=1.6.3->tensorboard<2.10,>=2.9->tensorflow-gpu) (0.4.8)\n",
      "Requirement already satisfied: oauthlib>=3.0.0 in c:\\users\\yashi\\appdata\\roaming\\python\\python38\\site-packages (from requests-oauthlib>=0.7.0->google-auth-oauthlib<0.5,>=0.4.1->tensorboard<2.10,>=2.9->tensorflow-gpu) (3.2.0)\n",
      "Installing collected packages: libclang, keras, flatbuffers, tensorflow-io-gcs-filesystem, tensorflow-estimator, numpy, tensorflow-gpu\n",
      "  Attempting uninstall: keras\n",
      "    Found existing installation: Keras 2.3.1\n",
      "    Uninstalling Keras-2.3.1:\n",
      "      Successfully uninstalled Keras-2.3.1\n",
      "  Attempting uninstall: tensorflow-estimator\n",
      "    Found existing installation: tensorflow-estimator 2.3.0\n",
      "    Uninstalling tensorflow-estimator-2.3.0:\n",
      "      Successfully uninstalled tensorflow-estimator-2.3.0\n",
      "  Attempting uninstall: numpy\n",
      "    Found existing installation: numpy 1.18.5\n",
      "    Uninstalling numpy-1.18.5:\n",
      "      Successfully uninstalled numpy-1.18.5\n",
      "  Rolling back uninstall of numpy\n",
      "  Moving to c:\\users\\yashi\\appdata\\roaming\\python\\python38\\scripts\\f2py.exe\n",
      "   from C:\\Users\\yashi\\AppData\\Local\\Temp\\pip-uninstall-8wxkuv29\\f2py.exe\n",
      "  Moving to c:\\users\\yashi\\appdata\\roaming\\python\\python38\\site-packages\\numpy-1.18.5.dist-info\\\n",
      "   from C:\\Users\\yashi\\AppData\\Roaming\\Python\\Python38\\site-packages\\~umpy-1.18.5.dist-info\n",
      "  Moving to c:\\users\\yashi\\appdata\\roaming\\python\\python38\\site-packages\\numpy\\\n",
      "   from C:\\Users\\yashi\\AppData\\Roaming\\Python\\Python38\\site-packages\\~umpy\n"
     ]
    }
   ],
   "source": [
    "!pip install --upgrade tensorflow-gpu"
   ]
  },
  {
   "cell_type": "code",
   "execution_count": 17,
   "metadata": {},
   "outputs": [
    {
     "name": "stdout",
     "output_type": "stream",
     "text": [
      "Collecting bs4\n",
      "  Downloading bs4-0.0.1.tar.gz (1.1 kB)\n",
      "  Preparing metadata (setup.py): started\n",
      "  Preparing metadata (setup.py): finished with status 'done'\n",
      "Requirement already satisfied: beautifulsoup4 in c:\\users\\yashi\\anaconda3\\envs\\project\\lib\\site-packages (from bs4) (4.11.1)\n",
      "Requirement already satisfied: soupsieve>1.2 in c:\\users\\yashi\\anaconda3\\envs\\project\\lib\\site-packages (from beautifulsoup4->bs4) (2.3.1)\n",
      "Building wheels for collected packages: bs4\n",
      "  Building wheel for bs4 (setup.py): started\n",
      "  Building wheel for bs4 (setup.py): finished with status 'done'\n",
      "  Created wheel for bs4: filename=bs4-0.0.1-py3-none-any.whl size=1257 sha256=78ba91e92cdc2001660f1c79c8a8ace602fe18805e29bfb75c6358ce58ad0edf\n",
      "  Stored in directory: c:\\users\\yashi\\appdata\\local\\pip\\cache\\wheels\\75\\78\\21\\68b124549c9bdc94f822c02fb9aa3578a669843f9767776bca\n",
      "Successfully built bs4\n",
      "Installing collected packages: bs4\n",
      "Successfully installed bs4-0.0.1\n"
     ]
    }
   ],
   "source": [
    "!pip install bs4"
   ]
  },
  {
   "cell_type": "code",
   "execution_count": 18,
   "metadata": {
    "scrolled": true
   },
   "outputs": [
    {
     "name": "stdout",
     "output_type": "stream",
     "text": [
      "Collecting selenium\n",
      "  Downloading selenium-4.1.5-py3-none-any.whl (979 kB)\n",
      "     -------------------------------------- 979.4/979.4 kB 1.9 MB/s eta 0:00:00\n",
      "Requirement already satisfied: urllib3[secure,socks]~=1.26 in c:\\users\\yashi\\appdata\\roaming\\python\\python38\\site-packages (from selenium) (1.26.9)\n",
      "Collecting trio~=0.17\n",
      "  Downloading trio-0.20.0-py3-none-any.whl (359 kB)\n",
      "     -------------------------------------- 359.0/359.0 kB 2.8 MB/s eta 0:00:00\n",
      "Collecting trio-websocket~=0.9\n",
      "  Downloading trio_websocket-0.9.2-py3-none-any.whl (16 kB)\n",
      "Collecting async-generator>=1.9\n",
      "  Using cached async_generator-1.10-py3-none-any.whl (18 kB)\n",
      "Requirement already satisfied: cffi>=1.14 in c:\\users\\yashi\\anaconda3\\envs\\project\\lib\\site-packages (from trio~=0.17->selenium) (1.15.0)\n",
      "Collecting sortedcontainers\n",
      "  Downloading sortedcontainers-2.4.0-py2.py3-none-any.whl (29 kB)\n",
      "Collecting outcome\n",
      "  Downloading outcome-1.1.0-py2.py3-none-any.whl (9.7 kB)\n",
      "Collecting sniffio\n",
      "  Downloading sniffio-1.2.0-py3-none-any.whl (10 kB)\n",
      "Requirement already satisfied: attrs>=19.2.0 in c:\\users\\yashi\\anaconda3\\envs\\project\\lib\\site-packages (from trio~=0.17->selenium) (21.4.0)\n",
      "Requirement already satisfied: idna in c:\\users\\yashi\\appdata\\roaming\\python\\python38\\site-packages (from trio~=0.17->selenium) (3.3)\n",
      "Collecting wsproto>=0.14\n",
      "  Downloading wsproto-1.1.0-py3-none-any.whl (24 kB)\n",
      "Collecting PySocks!=1.5.7,<2.0,>=1.5.6\n",
      "  Downloading PySocks-1.7.1-py3-none-any.whl (16 kB)\n",
      "Collecting cryptography>=1.3.4\n",
      "  Downloading cryptography-37.0.2-cp36-abi3-win_amd64.whl (2.4 MB)\n",
      "     ---------------------------------------- 2.4/2.4 MB 7.7 MB/s eta 0:00:00\n",
      "Collecting pyOpenSSL>=0.14\n",
      "  Downloading pyOpenSSL-22.0.0-py2.py3-none-any.whl (55 kB)\n",
      "     -------------------------------------- 55.8/55.8 kB 292.3 kB/s eta 0:00:00\n",
      "Requirement already satisfied: certifi in c:\\users\\yashi\\anaconda3\\envs\\project\\lib\\site-packages (from urllib3[secure,socks]~=1.26->selenium) (2022.5.18.1)\n",
      "Requirement already satisfied: pycparser in c:\\users\\yashi\\anaconda3\\envs\\project\\lib\\site-packages (from cffi>=1.14->trio~=0.17->selenium) (2.21)\n",
      "Collecting h11<1,>=0.9.0\n",
      "  Downloading h11-0.13.0-py3-none-any.whl (58 kB)\n",
      "     -------------------------------------- 58.2/58.2 kB 305.2 kB/s eta 0:00:00\n",
      "Installing collected packages: sortedcontainers, sniffio, PySocks, outcome, h11, async-generator, wsproto, trio, cryptography, trio-websocket, pyOpenSSL, selenium\n",
      "Successfully installed PySocks-1.7.1 async-generator-1.10 cryptography-37.0.2 h11-0.13.0 outcome-1.1.0 pyOpenSSL-22.0.0 selenium-4.1.5 sniffio-1.2.0 sortedcontainers-2.4.0 trio-0.20.0 trio-websocket-0.9.2 wsproto-1.1.0\n"
     ]
    }
   ],
   "source": [
    "!pip install selenium"
   ]
  },
  {
   "cell_type": "code",
   "execution_count": 19,
   "metadata": {
    "scrolled": true
   },
   "outputs": [
    {
     "name": "stdout",
     "output_type": "stream",
     "text": [
      "Requirement already satisfied: selenium in c:\\users\\yashi\\anaconda3\\envs\\project\\lib\\site-packages (4.1.5)\n",
      "Requirement already satisfied: trio~=0.17 in c:\\users\\yashi\\anaconda3\\envs\\project\\lib\\site-packages (from selenium) (0.20.0)\n",
      "Requirement already satisfied: urllib3[secure,socks]~=1.26 in c:\\users\\yashi\\appdata\\roaming\\python\\python38\\site-packages (from selenium) (1.26.9)\n",
      "Requirement already satisfied: trio-websocket~=0.9 in c:\\users\\yashi\\anaconda3\\envs\\project\\lib\\site-packages (from selenium) (0.9.2)\n",
      "Requirement already satisfied: sniffio in c:\\users\\yashi\\anaconda3\\envs\\project\\lib\\site-packages (from trio~=0.17->selenium) (1.2.0)\n",
      "Requirement already satisfied: async-generator>=1.9 in c:\\users\\yashi\\anaconda3\\envs\\project\\lib\\site-packages (from trio~=0.17->selenium) (1.10)\n",
      "Requirement already satisfied: sortedcontainers in c:\\users\\yashi\\anaconda3\\envs\\project\\lib\\site-packages (from trio~=0.17->selenium) (2.4.0)\n",
      "Requirement already satisfied: idna in c:\\users\\yashi\\appdata\\roaming\\python\\python38\\site-packages (from trio~=0.17->selenium) (3.3)\n",
      "Requirement already satisfied: cffi>=1.14 in c:\\users\\yashi\\anaconda3\\envs\\project\\lib\\site-packages (from trio~=0.17->selenium) (1.15.0)\n",
      "Requirement already satisfied: attrs>=19.2.0 in c:\\users\\yashi\\anaconda3\\envs\\project\\lib\\site-packages (from trio~=0.17->selenium) (21.4.0)\n",
      "Requirement already satisfied: outcome in c:\\users\\yashi\\anaconda3\\envs\\project\\lib\\site-packages (from trio~=0.17->selenium) (1.1.0)\n",
      "Requirement already satisfied: wsproto>=0.14 in c:\\users\\yashi\\anaconda3\\envs\\project\\lib\\site-packages (from trio-websocket~=0.9->selenium) (1.1.0)\n",
      "Requirement already satisfied: PySocks!=1.5.7,<2.0,>=1.5.6 in c:\\users\\yashi\\anaconda3\\envs\\project\\lib\\site-packages (from urllib3[secure,socks]~=1.26->selenium) (1.7.1)\n",
      "Requirement already satisfied: pyOpenSSL>=0.14 in c:\\users\\yashi\\anaconda3\\envs\\project\\lib\\site-packages (from urllib3[secure,socks]~=1.26->selenium) (22.0.0)\n",
      "Requirement already satisfied: certifi in c:\\users\\yashi\\anaconda3\\envs\\project\\lib\\site-packages (from urllib3[secure,socks]~=1.26->selenium) (2022.5.18.1)\n",
      "Requirement already satisfied: cryptography>=1.3.4 in c:\\users\\yashi\\anaconda3\\envs\\project\\lib\\site-packages (from urllib3[secure,socks]~=1.26->selenium) (37.0.2)\n",
      "Requirement already satisfied: pycparser in c:\\users\\yashi\\anaconda3\\envs\\project\\lib\\site-packages (from cffi>=1.14->trio~=0.17->selenium) (2.21)\n",
      "Requirement already satisfied: h11<1,>=0.9.0 in c:\\users\\yashi\\anaconda3\\envs\\project\\lib\\site-packages (from wsproto>=0.14->trio-websocket~=0.9->selenium) (0.13.0)\n",
      "Collecting webdriver_manager\n",
      "  Downloading webdriver_manager-3.6.3-py2.py3-none-any.whl (24 kB)\n",
      "Requirement already satisfied: requests in c:\\users\\yashi\\appdata\\roaming\\python\\python38\\site-packages (from webdriver_manager) (2.27.1)\n",
      "Collecting python-dotenv\n",
      "  Downloading python_dotenv-0.20.0-py3-none-any.whl (17 kB)\n",
      "Requirement already satisfied: urllib3<1.27,>=1.21.1 in c:\\users\\yashi\\appdata\\roaming\\python\\python38\\site-packages (from requests->webdriver_manager) (1.26.9)\n",
      "Requirement already satisfied: certifi>=2017.4.17 in c:\\users\\yashi\\anaconda3\\envs\\project\\lib\\site-packages (from requests->webdriver_manager) (2022.5.18.1)\n",
      "Requirement already satisfied: charset-normalizer~=2.0.0 in c:\\users\\yashi\\appdata\\roaming\\python\\python38\\site-packages (from requests->webdriver_manager) (2.0.12)\n",
      "Requirement already satisfied: idna<4,>=2.5 in c:\\users\\yashi\\appdata\\roaming\\python\\python38\\site-packages (from requests->webdriver_manager) (3.3)\n",
      "Installing collected packages: python-dotenv, webdriver_manager\n",
      "Successfully installed python-dotenv-0.20.0 webdriver_manager-3.6.3\n",
      "Collecting utils\n",
      "  Downloading utils-1.0.1-py2.py3-none-any.whl (21 kB)\n",
      "Installing collected packages: utils\n",
      "Successfully installed utils-1.0.1\n"
     ]
    }
   ],
   "source": [
    "!pip install selenium\n",
    "!pip install webdriver_manager\n",
    "!pip install utils"
   ]
  },
  {
   "cell_type": "code",
   "execution_count": 20,
   "metadata": {},
   "outputs": [
    {
     "name": "stdout",
     "output_type": "stream",
     "text": [
      "Requirement already satisfied: webdriver_manager in c:\\users\\yashi\\anaconda3\\envs\\project\\lib\\site-packages (3.6.3)\n",
      "Requirement already satisfied: requests in c:\\users\\yashi\\appdata\\roaming\\python\\python38\\site-packages (from webdriver_manager) (2.27.1)\n",
      "Requirement already satisfied: python-dotenv in c:\\users\\yashi\\anaconda3\\envs\\project\\lib\\site-packages (from webdriver_manager) (0.20.0)\n",
      "Requirement already satisfied: certifi>=2017.4.17 in c:\\users\\yashi\\anaconda3\\envs\\project\\lib\\site-packages (from requests->webdriver_manager) (2022.5.18.1)\n",
      "Requirement already satisfied: urllib3<1.27,>=1.21.1 in c:\\users\\yashi\\appdata\\roaming\\python\\python38\\site-packages (from requests->webdriver_manager) (1.26.9)\n",
      "Requirement already satisfied: idna<4,>=2.5 in c:\\users\\yashi\\appdata\\roaming\\python\\python38\\site-packages (from requests->webdriver_manager) (3.3)\n",
      "Requirement already satisfied: charset-normalizer~=2.0.0 in c:\\users\\yashi\\appdata\\roaming\\python\\python38\\site-packages (from requests->webdriver_manager) (2.0.12)\n"
     ]
    }
   ],
   "source": [
    "!pip install webdriver_manager"
   ]
  },
  {
   "cell_type": "code",
   "execution_count": 21,
   "metadata": {},
   "outputs": [
    {
     "name": "stdout",
     "output_type": "stream",
     "text": [
      "Requirement already satisfied: utils in c:\\users\\yashi\\anaconda3\\envs\\project\\lib\\site-packages (1.0.1)\n"
     ]
    }
   ],
   "source": [
    "!pip install utils"
   ]
  },
  {
   "cell_type": "code",
   "execution_count": 22,
   "metadata": {},
   "outputs": [],
   "source": [
    "# !pip install pyaudio"
   ]
  },
  {
   "cell_type": "code",
   "execution_count": 23,
   "metadata": {},
   "outputs": [
    {
     "name": "stdout",
     "output_type": "stream",
     "text": [
      "Collecting package metadata (current_repodata.json): ...working... done\n",
      "Solving environment: ...working... done\n",
      "\n",
      "## Package Plan ##\n",
      "\n",
      "  environment location: C:\\Users\\yashi\\anaconda3\\envs\\project\n",
      "\n",
      "  added / updated specs:\n",
      "    - pyaudio\n",
      "\n",
      "\n",
      "The following packages will be downloaded:\n",
      "\n",
      "    package                    |            build\n",
      "    ---------------------------|-----------------\n",
      "    portaudio-19.6.0           |       he774522_4         202 KB\n",
      "    pyaudio-0.2.11             |   py38he774522_2         206 KB\n",
      "    ------------------------------------------------------------\n",
      "                                           Total:         408 KB\n",
      "\n",
      "The following NEW packages will be INSTALLED:\n",
      "\n",
      "  portaudio          pkgs/main/win-64::portaudio-19.6.0-he774522_4\n",
      "  pyaudio            pkgs/main/win-64::pyaudio-0.2.11-py38he774522_2\n",
      "\n",
      "\n",
      "\n",
      "Downloading and Extracting Packages\n",
      "\n",
      "pyaudio-0.2.11       | 206 KB    |            |   0% \n",
      "pyaudio-0.2.11       | 206 KB    | 7          |   8% \n",
      "pyaudio-0.2.11       | 206 KB    | #####4     |  54% \n",
      "pyaudio-0.2.11       | 206 KB    | ########## | 100% \n",
      "\n",
      "portaudio-19.6.0     | 202 KB    |            |   0% \n",
      "portaudio-19.6.0     | 202 KB    | 7          |   8% \n",
      "portaudio-19.6.0     | 202 KB    | ########## | 100% \n",
      "Preparing transaction: ...working... done\n",
      "Verifying transaction: ...working... done\n",
      "Executing transaction: ...working... done\n",
      "\n",
      "Note: you may need to restart the kernel to use updated packages.\n"
     ]
    },
    {
     "name": "stderr",
     "output_type": "stream",
     "text": [
      "\n",
      "\n",
      "==> WARNING: A newer version of conda exists. <==\n",
      "  current version: 4.8.2\n",
      "  latest version: 4.12.0\n",
      "\n",
      "Please update conda by running\n",
      "\n",
      "    $ conda update -n base -c defaults conda\n",
      "\n",
      "\n"
     ]
    }
   ],
   "source": [
    "conda install pyaudio"
   ]
  },
  {
   "cell_type": "code",
   "execution_count": 24,
   "metadata": {
    "scrolled": true
   },
   "outputs": [
    {
     "name": "stdout",
     "output_type": "stream",
     "text": [
      "Collecting librosa\n",
      "  Downloading librosa-0.9.1-py3-none-any.whl (213 kB)\n",
      "     ------------------------------------ 213.1/213.1 kB 722.0 kB/s eta 0:00:00\n",
      "Requirement already satisfied: decorator>=4.0.10 in c:\\users\\yashi\\anaconda3\\envs\\project\\lib\\site-packages (from librosa) (5.1.1)\n",
      "Requirement already satisfied: scipy>=1.2.0 in c:\\users\\yashi\\appdata\\roaming\\python\\python38\\site-packages (from librosa) (1.4.1)\n",
      "Requirement already satisfied: joblib>=0.14 in c:\\users\\yashi\\anaconda3\\envs\\project\\lib\\site-packages (from librosa) (1.1.0)\n",
      "Collecting soundfile>=0.10.2\n",
      "  Downloading SoundFile-0.10.3.post1-py2.py3.cp26.cp27.cp32.cp33.cp34.cp35.cp36.pp27.pp32.pp33-none-win_amd64.whl (689 kB)\n",
      "     -------------------------------------- 689.4/689.4 kB 2.4 MB/s eta 0:00:00\n",
      "Requirement already satisfied: packaging>=20.0 in c:\\users\\yashi\\anaconda3\\envs\\project\\lib\\site-packages (from librosa) (21.3)\n",
      "Requirement already satisfied: scikit-learn>=0.19.1 in c:\\users\\yashi\\anaconda3\\envs\\project\\lib\\site-packages (from librosa) (1.1.1)\n",
      "Collecting numba>=0.45.1\n",
      "  Downloading numba-0.55.1-cp38-cp38-win_amd64.whl (2.4 MB)\n",
      "     ---------------------------------------- 2.4/2.4 MB 8.3 MB/s eta 0:00:00\n",
      "Collecting pooch>=1.0\n",
      "  Downloading pooch-1.6.0-py3-none-any.whl (56 kB)\n",
      "     -------------------------------------- 56.3/56.3 kB 590.0 kB/s eta 0:00:00\n",
      "Collecting resampy>=0.2.2\n",
      "  Downloading resampy-0.2.2.tar.gz (323 kB)\n",
      "     -------------------------------------- 323.4/323.4 kB 5.1 MB/s eta 0:00:00\n",
      "  Preparing metadata (setup.py): started\n",
      "  Preparing metadata (setup.py): finished with status 'done'\n",
      "Requirement already satisfied: numpy>=1.17.0 in c:\\users\\yashi\\appdata\\roaming\\python\\python38\\site-packages (from librosa) (1.18.5)\n",
      "Collecting audioread>=2.1.5\n",
      "  Downloading audioread-2.1.9.tar.gz (377 kB)\n",
      "     -------------------------------------- 377.5/377.5 kB 4.7 MB/s eta 0:00:00\n",
      "  Preparing metadata (setup.py): started\n",
      "  Preparing metadata (setup.py): finished with status 'done'\n",
      "Collecting llvmlite<0.39,>=0.38.0rc1\n",
      "  Downloading llvmlite-0.38.1-cp38-cp38-win_amd64.whl (23.2 MB)\n",
      "     --------------------------------------- 23.2/23.2 MB 10.4 MB/s eta 0:00:00\n",
      "Requirement already satisfied: setuptools in c:\\users\\yashi\\anaconda3\\envs\\project\\lib\\site-packages (from numba>=0.45.1->librosa) (62.3.2)\n",
      "Requirement already satisfied: pyparsing!=3.0.5,>=2.0.2 in c:\\users\\yashi\\anaconda3\\envs\\project\\lib\\site-packages (from packaging>=20.0->librosa) (3.0.4)\n",
      "Collecting appdirs>=1.3.0\n",
      "  Using cached appdirs-1.4.4-py2.py3-none-any.whl (9.6 kB)\n",
      "Requirement already satisfied: requests>=2.19.0 in c:\\users\\yashi\\appdata\\roaming\\python\\python38\\site-packages (from pooch>=1.0->librosa) (2.27.1)\n",
      "Requirement already satisfied: six>=1.3 in c:\\users\\yashi\\anaconda3\\envs\\project\\lib\\site-packages (from resampy>=0.2.2->librosa) (1.16.0)\n",
      "Requirement already satisfied: threadpoolctl>=2.0.0 in c:\\users\\yashi\\anaconda3\\envs\\project\\lib\\site-packages (from scikit-learn>=0.19.1->librosa) (3.1.0)\n",
      "Requirement already satisfied: cffi>=1.0 in c:\\users\\yashi\\anaconda3\\envs\\project\\lib\\site-packages (from soundfile>=0.10.2->librosa) (1.15.0)\n",
      "Requirement already satisfied: pycparser in c:\\users\\yashi\\anaconda3\\envs\\project\\lib\\site-packages (from cffi>=1.0->soundfile>=0.10.2->librosa) (2.21)\n",
      "Requirement already satisfied: urllib3<1.27,>=1.21.1 in c:\\users\\yashi\\appdata\\roaming\\python\\python38\\site-packages (from requests>=2.19.0->pooch>=1.0->librosa) (1.26.9)\n",
      "Requirement already satisfied: idna<4,>=2.5 in c:\\users\\yashi\\appdata\\roaming\\python\\python38\\site-packages (from requests>=2.19.0->pooch>=1.0->librosa) (3.3)\n",
      "Requirement already satisfied: charset-normalizer~=2.0.0 in c:\\users\\yashi\\appdata\\roaming\\python\\python38\\site-packages (from requests>=2.19.0->pooch>=1.0->librosa) (2.0.12)\n",
      "Requirement already satisfied: certifi>=2017.4.17 in c:\\users\\yashi\\anaconda3\\envs\\project\\lib\\site-packages (from requests>=2.19.0->pooch>=1.0->librosa) (2022.5.18.1)\n",
      "Building wheels for collected packages: audioread, resampy\n",
      "  Building wheel for audioread (setup.py): started\n",
      "  Building wheel for audioread (setup.py): finished with status 'done'\n",
      "  Created wheel for audioread: filename=audioread-2.1.9-py3-none-any.whl size=23154 sha256=c0609f2c022a492bd0650bada859dea9c4f9e397ef7c49d8db0239d6208cc7f3\n",
      "  Stored in directory: c:\\users\\yashi\\appdata\\local\\pip\\cache\\wheels\\49\\5a\\e4\\df590783499a992a88de6c0898991d1167453a3196d0d1eeb7\n",
      "  Building wheel for resampy (setup.py): started\n",
      "  Building wheel for resampy (setup.py): finished with status 'done'\n",
      "  Created wheel for resampy: filename=resampy-0.2.2-py3-none-any.whl size=320713 sha256=d84fd978b003f3de66279b9a7ae6add8e02fd878b201fd117f77bbc72723e4ce\n",
      "  Stored in directory: c:\\users\\yashi\\appdata\\local\\pip\\cache\\wheels\\6f\\d1\\5d\\f13da53b1dcbc2624ff548456c9ffb526c914f53c12c318bb4\n",
      "Successfully built audioread resampy\n",
      "Installing collected packages: audioread, appdirs, llvmlite, soundfile, pooch, numba, resampy, librosa\n",
      "Successfully installed appdirs-1.4.4 audioread-2.1.9 librosa-0.9.1 llvmlite-0.38.1 numba-0.55.1 pooch-1.6.0 resampy-0.2.2 soundfile-0.10.3.post1\n"
     ]
    }
   ],
   "source": [
    "!pip install librosa"
   ]
  },
  {
   "cell_type": "code",
   "execution_count": 25,
   "metadata": {},
   "outputs": [
    {
     "name": "stdout",
     "output_type": "stream",
     "text": [
      "Collecting pydub\n",
      "  Downloading pydub-0.25.1-py2.py3-none-any.whl (32 kB)\n",
      "Installing collected packages: pydub\n",
      "Successfully installed pydub-0.25.1\n"
     ]
    }
   ],
   "source": [
    "!pip install pydub"
   ]
  },
  {
   "cell_type": "code",
   "execution_count": 26,
   "metadata": {},
   "outputs": [
    {
     "name": "stdout",
     "output_type": "stream",
     "text": [
      "Collecting SpeechRecognition\n",
      "  Downloading SpeechRecognition-3.8.1-py2.py3-none-any.whl (32.8 MB)\n",
      "     ---------------------------------------- 32.8/32.8 MB 2.3 MB/s eta 0:00:00\n",
      "Installing collected packages: SpeechRecognition\n",
      "Successfully installed SpeechRecognition-3.8.1\n"
     ]
    }
   ],
   "source": [
    "!pip install SpeechRecognition"
   ]
  },
  {
   "cell_type": "code",
   "execution_count": 27,
   "metadata": {
    "scrolled": true
   },
   "outputs": [
    {
     "name": "stdout",
     "output_type": "stream",
     "text": [
      "Collecting spacy==2.2.4\n",
      "  Downloading spacy-2.2.4-cp38-cp38-win_amd64.whl (10.1 MB)\n",
      "     ---------------------------------------- 10.1/10.1 MB 4.4 MB/s eta 0:00:00\n",
      "Collecting plac<1.2.0,>=0.9.6\n",
      "  Downloading plac-1.1.3-py2.py3-none-any.whl (20 kB)\n",
      "Requirement already satisfied: requests<3.0.0,>=2.13.0 in c:\\users\\yashi\\appdata\\roaming\\python\\python38\\site-packages (from spacy==2.2.4) (2.27.1)\n",
      "Collecting thinc==7.4.0\n",
      "  Downloading thinc-7.4.0-cp38-cp38-win_amd64.whl (2.1 MB)\n",
      "     ---------------------------------------- 2.1/2.1 MB 12.2 MB/s eta 0:00:00\n",
      "Collecting wasabi<1.1.0,>=0.4.0\n",
      "  Downloading wasabi-0.9.1-py3-none-any.whl (26 kB)\n",
      "Collecting blis<0.5.0,>=0.4.0\n",
      "  Downloading blis-0.4.1-cp38-cp38-win_amd64.whl (5.0 MB)\n",
      "     ---------------------------------------- 5.0/5.0 MB 5.6 MB/s eta 0:00:00\n",
      "Requirement already satisfied: numpy>=1.15.0 in c:\\users\\yashi\\appdata\\roaming\\python\\python38\\site-packages (from spacy==2.2.4) (1.18.5)\n",
      "Collecting cymem<2.1.0,>=2.0.2\n",
      "  Downloading cymem-2.0.6-cp38-cp38-win_amd64.whl (36 kB)\n",
      "Collecting preshed<3.1.0,>=3.0.2\n",
      "  Downloading preshed-3.0.6-cp38-cp38-win_amd64.whl (113 kB)\n",
      "     ------------------------------------ 113.0/113.0 kB 328.3 kB/s eta 0:00:00\n",
      "Requirement already satisfied: tqdm<5.0.0,>=4.38.0 in c:\\users\\yashi\\anaconda3\\envs\\project\\lib\\site-packages (from spacy==2.2.4) (4.64.0)\n",
      "Requirement already satisfied: setuptools in c:\\users\\yashi\\anaconda3\\envs\\project\\lib\\site-packages (from spacy==2.2.4) (62.3.2)\n",
      "Collecting murmurhash<1.1.0,>=0.28.0\n",
      "  Downloading murmurhash-1.0.7-cp38-cp38-win_amd64.whl (18 kB)\n",
      "Collecting catalogue<1.1.0,>=0.0.7\n",
      "  Downloading catalogue-1.0.0-py2.py3-none-any.whl (7.7 kB)\n",
      "Collecting srsly<1.1.0,>=1.0.2\n",
      "  Downloading srsly-1.0.5-cp38-cp38-win_amd64.whl (178 kB)\n",
      "     ------------------------------------ 178.2/178.2 kB 565.5 kB/s eta 0:00:00\n",
      "Requirement already satisfied: certifi>=2017.4.17 in c:\\users\\yashi\\anaconda3\\envs\\project\\lib\\site-packages (from requests<3.0.0,>=2.13.0->spacy==2.2.4) (2022.5.18.1)\n",
      "Requirement already satisfied: charset-normalizer~=2.0.0 in c:\\users\\yashi\\appdata\\roaming\\python\\python38\\site-packages (from requests<3.0.0,>=2.13.0->spacy==2.2.4) (2.0.12)\n",
      "Requirement already satisfied: urllib3<1.27,>=1.21.1 in c:\\users\\yashi\\appdata\\roaming\\python\\python38\\site-packages (from requests<3.0.0,>=2.13.0->spacy==2.2.4) (1.26.9)\n",
      "Requirement already satisfied: idna<4,>=2.5 in c:\\users\\yashi\\appdata\\roaming\\python\\python38\\site-packages (from requests<3.0.0,>=2.13.0->spacy==2.2.4) (3.3)\n",
      "Requirement already satisfied: colorama in c:\\users\\yashi\\anaconda3\\envs\\project\\lib\\site-packages (from tqdm<5.0.0,>=4.38.0->spacy==2.2.4) (0.4.4)\n",
      "Installing collected packages: wasabi, srsly, plac, murmurhash, cymem, preshed, catalogue, blis, thinc, spacy\n",
      "Successfully installed blis-0.4.1 catalogue-1.0.0 cymem-2.0.6 murmurhash-1.0.7 plac-1.1.3 preshed-3.0.6 spacy-2.2.4 srsly-1.0.5 thinc-7.4.0 wasabi-0.9.1\n"
     ]
    }
   ],
   "source": [
    "!pip install spacy==2.2.4"
   ]
  },
  {
   "cell_type": "code",
   "execution_count": 28,
   "metadata": {
    "scrolled": true
   },
   "outputs": [
    {
     "name": "stdout",
     "output_type": "stream",
     "text": [
      "Collecting en_core_web_sm==2.2.5\n",
      "  Downloading https://github.com/explosion/spacy-models/releases/download/en_core_web_sm-2.2.5/en_core_web_sm-2.2.5.tar.gz (12.0 MB)\n",
      "     ---------------------------------------- 12.0/12.0 MB 9.9 MB/s eta 0:00:00\n",
      "  Preparing metadata (setup.py): started\n",
      "  Preparing metadata (setup.py): finished with status 'done'\n",
      "Requirement already satisfied: spacy>=2.2.2 in c:\\users\\yashi\\anaconda3\\envs\\project\\lib\\site-packages (from en_core_web_sm==2.2.5) (2.2.4)\n",
      "Requirement already satisfied: catalogue<1.1.0,>=0.0.7 in c:\\users\\yashi\\anaconda3\\envs\\project\\lib\\site-packages (from spacy>=2.2.2->en_core_web_sm==2.2.5) (1.0.0)\n",
      "Requirement already satisfied: setuptools in c:\\users\\yashi\\anaconda3\\envs\\project\\lib\\site-packages (from spacy>=2.2.2->en_core_web_sm==2.2.5) (62.3.2)\n",
      "Requirement already satisfied: wasabi<1.1.0,>=0.4.0 in c:\\users\\yashi\\anaconda3\\envs\\project\\lib\\site-packages (from spacy>=2.2.2->en_core_web_sm==2.2.5) (0.9.1)\n",
      "Requirement already satisfied: murmurhash<1.1.0,>=0.28.0 in c:\\users\\yashi\\anaconda3\\envs\\project\\lib\\site-packages (from spacy>=2.2.2->en_core_web_sm==2.2.5) (1.0.7)\n",
      "Requirement already satisfied: tqdm<5.0.0,>=4.38.0 in c:\\users\\yashi\\anaconda3\\envs\\project\\lib\\site-packages (from spacy>=2.2.2->en_core_web_sm==2.2.5) (4.64.0)\n",
      "Requirement already satisfied: requests<3.0.0,>=2.13.0 in c:\\users\\yashi\\appdata\\roaming\\python\\python38\\site-packages (from spacy>=2.2.2->en_core_web_sm==2.2.5) (2.27.1)\n",
      "Requirement already satisfied: thinc==7.4.0 in c:\\users\\yashi\\anaconda3\\envs\\project\\lib\\site-packages (from spacy>=2.2.2->en_core_web_sm==2.2.5) (7.4.0)\n",
      "Requirement already satisfied: cymem<2.1.0,>=2.0.2 in c:\\users\\yashi\\anaconda3\\envs\\project\\lib\\site-packages (from spacy>=2.2.2->en_core_web_sm==2.2.5) (2.0.6)\n",
      "Requirement already satisfied: numpy>=1.15.0 in c:\\users\\yashi\\appdata\\roaming\\python\\python38\\site-packages (from spacy>=2.2.2->en_core_web_sm==2.2.5) (1.18.5)\n",
      "Requirement already satisfied: blis<0.5.0,>=0.4.0 in c:\\users\\yashi\\anaconda3\\envs\\project\\lib\\site-packages (from spacy>=2.2.2->en_core_web_sm==2.2.5) (0.4.1)\n",
      "Requirement already satisfied: plac<1.2.0,>=0.9.6 in c:\\users\\yashi\\anaconda3\\envs\\project\\lib\\site-packages (from spacy>=2.2.2->en_core_web_sm==2.2.5) (1.1.3)\n",
      "Requirement already satisfied: preshed<3.1.0,>=3.0.2 in c:\\users\\yashi\\anaconda3\\envs\\project\\lib\\site-packages (from spacy>=2.2.2->en_core_web_sm==2.2.5) (3.0.6)\n",
      "Requirement already satisfied: srsly<1.1.0,>=1.0.2 in c:\\users\\yashi\\anaconda3\\envs\\project\\lib\\site-packages (from spacy>=2.2.2->en_core_web_sm==2.2.5) (1.0.5)\n",
      "Requirement already satisfied: idna<4,>=2.5 in c:\\users\\yashi\\appdata\\roaming\\python\\python38\\site-packages (from requests<3.0.0,>=2.13.0->spacy>=2.2.2->en_core_web_sm==2.2.5) (3.3)\n",
      "Requirement already satisfied: urllib3<1.27,>=1.21.1 in c:\\users\\yashi\\appdata\\roaming\\python\\python38\\site-packages (from requests<3.0.0,>=2.13.0->spacy>=2.2.2->en_core_web_sm==2.2.5) (1.26.9)\n",
      "Requirement already satisfied: certifi>=2017.4.17 in c:\\users\\yashi\\anaconda3\\envs\\project\\lib\\site-packages (from requests<3.0.0,>=2.13.0->spacy>=2.2.2->en_core_web_sm==2.2.5) (2022.5.18.1)\n",
      "Requirement already satisfied: charset-normalizer~=2.0.0 in c:\\users\\yashi\\appdata\\roaming\\python\\python38\\site-packages (from requests<3.0.0,>=2.13.0->spacy>=2.2.2->en_core_web_sm==2.2.5) (2.0.12)\n",
      "Requirement already satisfied: colorama in c:\\users\\yashi\\anaconda3\\envs\\project\\lib\\site-packages (from tqdm<5.0.0,>=4.38.0->spacy>=2.2.2->en_core_web_sm==2.2.5) (0.4.4)\n",
      "Building wheels for collected packages: en_core_web_sm\n",
      "  Building wheel for en_core_web_sm (setup.py): started\n",
      "  Building wheel for en_core_web_sm (setup.py): finished with status 'done'\n",
      "  Created wheel for en_core_web_sm: filename=en_core_web_sm-2.2.5-py3-none-any.whl size=12011717 sha256=8dcf9bd96dbd7e890f77a243d36a5a304f44920a2429c58a5966396ab99fe180\n",
      "  Stored in directory: C:\\Users\\yashi\\AppData\\Local\\Temp\\pip-ephem-wheel-cache-fc7i585h\\wheels\\77\\b4\\c8\\395804b9a2b6864aaff3623d7b709680acc3d04f47c8162ee6\n",
      "Successfully built en_core_web_sm\n",
      "Installing collected packages: en_core_web_sm\n",
      "Successfully installed en_core_web_sm-2.2.5\n",
      "[+] Download and installation successful\n",
      "You can now load the model via spacy.load('en_core_web_sm')\n"
     ]
    },
    {
     "name": "stderr",
     "output_type": "stream",
     "text": [
      "C:\\Users\\yashi\\anaconda3\\envs\\project\\lib\\runpy.py:127: RuntimeWarning: 'nltk.downloader' found in sys.modules after import of package 'nltk', but prior to execution of 'nltk.downloader'; this may result in unpredictable behaviour\n",
      "  warn(RuntimeWarning(msg))\n",
      "[nltk_data] Downloading package words to\n",
      "[nltk_data]     C:\\Users\\yashi\\AppData\\Roaming\\nltk_data...\n",
      "[nltk_data]   Package words is already up-to-date!\n"
     ]
    },
    {
     "name": "stdout",
     "output_type": "stream",
     "text": [
      "Collecting pyresparser\n",
      "  Downloading pyresparser-1.0.6-py3-none-any.whl (4.2 MB)\n",
      "     ---------------------------------------- 4.2/4.2 MB 4.6 MB/s eta 0:00:00\n",
      "Requirement already satisfied: thinc>=7.0.4 in c:\\users\\yashi\\anaconda3\\envs\\project\\lib\\site-packages (from pyresparser) (7.4.0)\n",
      "Requirement already satisfied: pyrsistent>=0.15.2 in c:\\users\\yashi\\anaconda3\\envs\\project\\lib\\site-packages (from pyresparser) (0.18.0)\n",
      "Requirement already satisfied: certifi>=2019.6.16 in c:\\users\\yashi\\anaconda3\\envs\\project\\lib\\site-packages (from pyresparser) (2022.5.18.1)\n",
      "Requirement already satisfied: nltk>=3.4.3 in c:\\users\\yashi\\anaconda3\\envs\\project\\lib\\site-packages (from pyresparser) (3.7)\n",
      "Requirement already satisfied: attrs>=19.1.0 in c:\\users\\yashi\\anaconda3\\envs\\project\\lib\\site-packages (from pyresparser) (21.4.0)\n",
      "Requirement already satisfied: sortedcontainers>=2.1.0 in c:\\users\\yashi\\anaconda3\\envs\\project\\lib\\site-packages (from pyresparser) (2.4.0)\n",
      "Collecting pycryptodome>=3.8.2\n",
      "  Downloading pycryptodome-3.14.1-cp35-abi3-win_amd64.whl (1.8 MB)\n",
      "     ---------------------------------------- 1.8/1.8 MB 9.8 MB/s eta 0:00:00\n",
      "Requirement already satisfied: srsly>=0.0.7 in c:\\users\\yashi\\anaconda3\\envs\\project\\lib\\site-packages (from pyresparser) (1.0.5)\n",
      "Requirement already satisfied: urllib3>=1.25.3 in c:\\users\\yashi\\appdata\\roaming\\python\\python38\\site-packages (from pyresparser) (1.26.9)\n",
      "Requirement already satisfied: pytz>=2019.1 in c:\\users\\yashi\\anaconda3\\envs\\project\\lib\\site-packages (from pyresparser) (2022.1)\n",
      "Requirement already satisfied: spacy>=2.1.4 in c:\\users\\yashi\\anaconda3\\envs\\project\\lib\\site-packages (from pyresparser) (2.2.4)\n",
      "Requirement already satisfied: preshed>=2.0.1 in c:\\users\\yashi\\anaconda3\\envs\\project\\lib\\site-packages (from pyresparser) (3.0.6)\n",
      "Requirement already satisfied: numpy>=1.16.4 in c:\\users\\yashi\\appdata\\roaming\\python\\python38\\site-packages (from pyresparser) (1.18.5)\n",
      "Requirement already satisfied: pandas>=0.24.2 in c:\\users\\yashi\\anaconda3\\envs\\project\\lib\\site-packages (from pyresparser) (1.4.2)\n",
      "Requirement already satisfied: idna>=2.8 in c:\\users\\yashi\\appdata\\roaming\\python\\python38\\site-packages (from pyresparser) (3.3)\n",
      "Requirement already satisfied: wasabi>=0.2.2 in c:\\users\\yashi\\anaconda3\\envs\\project\\lib\\site-packages (from pyresparser) (0.9.1)\n",
      "Requirement already satisfied: tqdm>=4.32.2 in c:\\users\\yashi\\anaconda3\\envs\\project\\lib\\site-packages (from pyresparser) (4.64.0)\n",
      "Requirement already satisfied: requests>=2.22.0 in c:\\users\\yashi\\appdata\\roaming\\python\\python38\\site-packages (from pyresparser) (2.27.1)\n",
      "Requirement already satisfied: blis>=0.2.4 in c:\\users\\yashi\\anaconda3\\envs\\project\\lib\\site-packages (from pyresparser) (0.4.1)\n",
      "Requirement already satisfied: jsonschema>=3.0.1 in c:\\users\\yashi\\anaconda3\\envs\\project\\lib\\site-packages (from pyresparser) (4.4.0)\n",
      "Collecting docx2txt>=0.7\n",
      "  Downloading docx2txt-0.8.tar.gz (2.8 kB)\n",
      "  Preparing metadata (setup.py): started\n",
      "  Preparing metadata (setup.py): finished with status 'done'\n",
      "Requirement already satisfied: python-dateutil>=2.8.0 in c:\\users\\yashi\\anaconda3\\envs\\project\\lib\\site-packages (from pyresparser) (2.8.2)\n",
      "Requirement already satisfied: six>=1.12.0 in c:\\users\\yashi\\anaconda3\\envs\\project\\lib\\site-packages (from pyresparser) (1.16.0)\n",
      "Collecting chardet>=3.0.4\n",
      "  Downloading chardet-4.0.0-py2.py3-none-any.whl (178 kB)\n",
      "     ------------------------------------ 178.7/178.7 kB 599.7 kB/s eta 0:00:00\n",
      "Collecting pdfminer.six>=20181108\n",
      "  Downloading pdfminer.six-20220506-py3-none-any.whl (5.6 MB)\n",
      "     ---------------------------------------- 5.6/5.6 MB 5.7 MB/s eta 0:00:00\n",
      "Requirement already satisfied: cymem>=2.0.2 in c:\\users\\yashi\\anaconda3\\envs\\project\\lib\\site-packages (from pyresparser) (2.0.6)\n",
      "Requirement already satisfied: importlib-resources>=1.4.0 in c:\\users\\yashi\\anaconda3\\envs\\project\\lib\\site-packages (from jsonschema>=3.0.1->pyresparser) (5.2.0)\n",
      "Requirement already satisfied: regex>=2021.8.3 in c:\\users\\yashi\\anaconda3\\envs\\project\\lib\\site-packages (from nltk>=3.4.3->pyresparser) (2022.4.24)\n",
      "Requirement already satisfied: click in c:\\users\\yashi\\anaconda3\\envs\\project\\lib\\site-packages (from nltk>=3.4.3->pyresparser) (8.1.3)\n",
      "Requirement already satisfied: joblib in c:\\users\\yashi\\anaconda3\\envs\\project\\lib\\site-packages (from nltk>=3.4.3->pyresparser) (1.1.0)\n",
      "Requirement already satisfied: charset-normalizer~=2.0.0 in c:\\users\\yashi\\appdata\\roaming\\python\\python38\\site-packages (from pdfminer.six>=20181108->pyresparser) (2.0.12)\n",
      "Collecting cryptography~=36.0.0\n",
      "  Downloading cryptography-36.0.2-cp36-abi3-win_amd64.whl (2.2 MB)\n",
      "     ---------------------------------------- 2.2/2.2 MB 17.2 MB/s eta 0:00:00\n",
      "Requirement already satisfied: murmurhash<1.1.0,>=0.28.0 in c:\\users\\yashi\\anaconda3\\envs\\project\\lib\\site-packages (from preshed>=2.0.1->pyresparser) (1.0.7)\n",
      "Requirement already satisfied: setuptools in c:\\users\\yashi\\anaconda3\\envs\\project\\lib\\site-packages (from spacy>=2.1.4->pyresparser) (62.3.2)\n",
      "Requirement already satisfied: catalogue<1.1.0,>=0.0.7 in c:\\users\\yashi\\anaconda3\\envs\\project\\lib\\site-packages (from spacy>=2.1.4->pyresparser) (1.0.0)\n",
      "Requirement already satisfied: plac<1.2.0,>=0.9.6 in c:\\users\\yashi\\anaconda3\\envs\\project\\lib\\site-packages (from spacy>=2.1.4->pyresparser) (1.1.3)\n",
      "Requirement already satisfied: colorama in c:\\users\\yashi\\anaconda3\\envs\\project\\lib\\site-packages (from tqdm>=4.32.2->pyresparser) (0.4.4)\n",
      "Requirement already satisfied: cffi>=1.12 in c:\\users\\yashi\\anaconda3\\envs\\project\\lib\\site-packages (from cryptography~=36.0.0->pdfminer.six>=20181108->pyresparser) (1.15.0)\n",
      "Requirement already satisfied: zipp>=3.1.0 in c:\\users\\yashi\\anaconda3\\envs\\project\\lib\\site-packages (from importlib-resources>=1.4.0->jsonschema>=3.0.1->pyresparser) (3.8.0)\n",
      "Requirement already satisfied: pycparser in c:\\users\\yashi\\anaconda3\\envs\\project\\lib\\site-packages (from cffi>=1.12->cryptography~=36.0.0->pdfminer.six>=20181108->pyresparser) (2.21)\n",
      "Building wheels for collected packages: docx2txt\n",
      "  Building wheel for docx2txt (setup.py): started\n",
      "  Building wheel for docx2txt (setup.py): finished with status 'done'\n",
      "  Created wheel for docx2txt: filename=docx2txt-0.8-py3-none-any.whl size=3966 sha256=b68ec8e6da10777bf6d3b08f7250225eca707d9e4a0b2f7037880c262399f61b\n",
      "  Stored in directory: c:\\users\\yashi\\appdata\\local\\pip\\cache\\wheels\\55\\f0\\2c\\81637d42670985178b77df6d41b9b6c6dc18c94818447414b9\n",
      "Successfully built docx2txt\n",
      "Installing collected packages: docx2txt, pycryptodome, chardet, cryptography, pdfminer.six, pyresparser\n",
      "  Attempting uninstall: cryptography\n",
      "    Found existing installation: cryptography 37.0.2\n",
      "    Uninstalling cryptography-37.0.2:\n",
      "      Successfully uninstalled cryptography-37.0.2\n",
      "Successfully installed chardet-4.0.0 cryptography-36.0.2 docx2txt-0.8 pdfminer.six-20220506 pycryptodome-3.14.1 pyresparser-1.0.6\n"
     ]
    }
   ],
   "source": [
    "!python -m spacy download en_core_web_sm\n",
    "!python -m nltk.downloader words\n",
    "!pip install pyresparser"
   ]
  },
  {
   "cell_type": "code",
   "execution_count": 29,
   "metadata": {},
   "outputs": [
    {
     "name": "stdout",
     "output_type": "stream",
     "text": [
      "Requirement already satisfied: pillow in c:\\users\\yashi\\anaconda3\\envs\\project\\lib\\site-packages (9.1.1)\n"
     ]
    }
   ],
   "source": [
    "!pip install pillow"
   ]
  },
  {
   "cell_type": "code",
   "execution_count": 30,
   "metadata": {
    "scrolled": true
   },
   "outputs": [
    {
     "name": "stdout",
     "output_type": "stream",
     "text": [
      "Collecting scikit-image\n",
      "  Downloading scikit_image-0.19.2-cp38-cp38-win_amd64.whl (12.6 MB)\n",
      "     ---------------------------------------- 12.6/12.6 MB 8.5 MB/s eta 0:00:00\n",
      "Requirement already satisfied: pillow!=7.1.0,!=7.1.1,!=8.3.0,>=6.1.0 in c:\\users\\yashi\\anaconda3\\envs\\project\\lib\\site-packages (from scikit-image) (9.1.1)\n",
      "Collecting PyWavelets>=1.1.1\n",
      "  Downloading PyWavelets-1.3.0-cp38-cp38-win_amd64.whl (4.2 MB)\n",
      "     ---------------------------------------- 4.2/4.2 MB 22.2 MB/s eta 0:00:00\n",
      "Requirement already satisfied: numpy>=1.17.0 in c:\\users\\yashi\\appdata\\roaming\\python\\python38\\site-packages (from scikit-image) (1.18.5)\n",
      "Collecting networkx>=2.2\n",
      "  Downloading networkx-2.8.2-py3-none-any.whl (2.0 MB)\n",
      "     ---------------------------------------- 2.0/2.0 MB 9.9 MB/s eta 0:00:00\n",
      "Collecting imageio>=2.4.1\n",
      "  Downloading imageio-2.19.2-py3-none-any.whl (3.4 MB)\n",
      "     ---------------------------------------- 3.4/3.4 MB 15.3 MB/s eta 0:00:00\n",
      "Collecting tifffile>=2019.7.26\n",
      "  Downloading tifffile-2022.5.4-py3-none-any.whl (195 kB)\n",
      "     -------------------------------------- 195.6/195.6 kB 3.0 MB/s eta 0:00:00\n",
      "Requirement already satisfied: packaging>=20.0 in c:\\users\\yashi\\anaconda3\\envs\\project\\lib\\site-packages (from scikit-image) (21.3)\n",
      "Requirement already satisfied: scipy>=1.4.1 in c:\\users\\yashi\\appdata\\roaming\\python\\python38\\site-packages (from scikit-image) (1.4.1)\n",
      "Requirement already satisfied: pyparsing!=3.0.5,>=2.0.2 in c:\\users\\yashi\\anaconda3\\envs\\project\\lib\\site-packages (from packaging>=20.0->scikit-image) (3.0.4)\n",
      "Collecting numpy>=1.17.0\n",
      "  Using cached numpy-1.22.4-cp38-cp38-win_amd64.whl (14.8 MB)\n",
      "Installing collected packages: numpy, networkx, tifffile, PyWavelets, imageio, scikit-image\n",
      "  Attempting uninstall: numpy\n",
      "    Found existing installation: numpy 1.18.5\n",
      "    Uninstalling numpy-1.18.5:\n",
      "      Successfully uninstalled numpy-1.18.5\n",
      "  Rolling back uninstall of numpy\n",
      "  Moving to c:\\users\\yashi\\appdata\\roaming\\python\\python38\\scripts\\f2py.exe\n",
      "   from C:\\Users\\yashi\\AppData\\Local\\Temp\\pip-uninstall-7erzrf2u\\f2py.exe\n",
      "  Moving to c:\\users\\yashi\\appdata\\roaming\\python\\python38\\site-packages\\numpy-1.18.5.dist-info\\\n",
      "   from C:\\Users\\yashi\\AppData\\Roaming\\Python\\Python38\\site-packages\\~umpy-1.18.5.dist-info\n",
      "  Moving to c:\\users\\yashi\\appdata\\roaming\\python\\python38\\site-packages\\numpy\\\n",
      "   from C:\\Users\\yashi\\AppData\\Roaming\\Python\\Python38\\site-packages\\~umpy\n"
     ]
    },
    {
     "name": "stderr",
     "output_type": "stream",
     "text": [
      "  WARNING: No metadata found in c:\\users\\yashi\\appdata\\roaming\\python\\python38\\site-packages\n",
      "ERROR: Could not install packages due to an OSError: [WinError 5] Access is denied: 'C:\\\\Users\\\\yashi\\\\anaconda3\\\\envs\\\\project\\\\Lib\\\\site-packages\\\\numpy\\\\.libs\\\\libopenblas.EL2C6PLE4ZYW3ECEVIV3OXXGRN2NRFM2.gfortran-win_amd64.dll'\n",
      "Consider using the `--user` option or check the permissions.\n",
      "\n"
     ]
    }
   ],
   "source": [
    "!pip install scikit-image"
   ]
  },
  {
   "cell_type": "code",
   "execution_count": 31,
   "metadata": {
    "scrolled": true
   },
   "outputs": [
    {
     "name": "stdout",
     "output_type": "stream",
     "text": [
      "Collecting tweepy\n",
      "  Downloading tweepy-4.10.0-py3-none-any.whl (94 kB)\n",
      "     --------------------------------------- 94.4/94.4 kB 59.2 kB/s eta 0:00:00\n",
      "Requirement already satisfied: requests<3,>=2.27.0 in c:\\users\\yashi\\appdata\\roaming\\python\\python38\\site-packages (from tweepy) (2.27.1)\n",
      "Requirement already satisfied: requests-oauthlib<2,>=1.2.0 in c:\\users\\yashi\\appdata\\roaming\\python\\python38\\site-packages (from tweepy) (1.3.1)\n",
      "Requirement already satisfied: oauthlib<4,>=3.2.0 in c:\\users\\yashi\\appdata\\roaming\\python\\python38\\site-packages (from tweepy) (3.2.0)\n",
      "Requirement already satisfied: certifi>=2017.4.17 in c:\\users\\yashi\\anaconda3\\envs\\project\\lib\\site-packages (from requests<3,>=2.27.0->tweepy) (2022.5.18.1)\n",
      "Requirement already satisfied: urllib3<1.27,>=1.21.1 in c:\\users\\yashi\\appdata\\roaming\\python\\python38\\site-packages (from requests<3,>=2.27.0->tweepy) (1.26.9)\n",
      "Requirement already satisfied: charset-normalizer~=2.0.0 in c:\\users\\yashi\\appdata\\roaming\\python\\python38\\site-packages (from requests<3,>=2.27.0->tweepy) (2.0.12)\n",
      "Requirement already satisfied: idna<4,>=2.5 in c:\\users\\yashi\\appdata\\roaming\\python\\python38\\site-packages (from requests<3,>=2.27.0->tweepy) (3.3)\n",
      "Installing collected packages: tweepy\n",
      "Successfully installed tweepy-4.10.0\n",
      "Requirement already satisfied: pycryptodome in c:\\users\\yashi\\anaconda3\\envs\\project\\lib\\site-packages (3.14.1)\n",
      "Collecting pycryptodomex\n",
      "  Downloading pycryptodomex-3.14.1-cp35-abi3-win_amd64.whl (1.8 MB)\n",
      "     ---------------------------------------- 1.8/1.8 MB 1.4 MB/s eta 0:00:00\n",
      "Installing collected packages: pycryptodomex\n",
      "Successfully installed pycryptodomex-3.14.1\n",
      "Collecting seaborn\n",
      "  Downloading seaborn-0.11.2-py3-none-any.whl (292 kB)\n",
      "     ------------------------------------ 292.8/292.8 kB 823.8 kB/s eta 0:00:00\n",
      "Requirement already satisfied: scipy>=1.0 in c:\\users\\yashi\\appdata\\roaming\\python\\python38\\site-packages (from seaborn) (1.4.1)\n",
      "Requirement already satisfied: matplotlib>=2.2 in c:\\users\\yashi\\anaconda3\\envs\\project\\lib\\site-packages (from seaborn) (3.5.2)\n",
      "Requirement already satisfied: numpy>=1.15 in c:\\users\\yashi\\appdata\\roaming\\python\\python38\\site-packages (from seaborn) (1.18.5)\n",
      "Requirement already satisfied: pandas>=0.23 in c:\\users\\yashi\\anaconda3\\envs\\project\\lib\\site-packages (from seaborn) (1.4.2)\n",
      "Requirement already satisfied: pillow>=6.2.0 in c:\\users\\yashi\\anaconda3\\envs\\project\\lib\\site-packages (from matplotlib>=2.2->seaborn) (9.1.1)\n",
      "Requirement already satisfied: fonttools>=4.22.0 in c:\\users\\yashi\\anaconda3\\envs\\project\\lib\\site-packages (from matplotlib>=2.2->seaborn) (4.33.3)\n",
      "Requirement already satisfied: cycler>=0.10 in c:\\users\\yashi\\anaconda3\\envs\\project\\lib\\site-packages (from matplotlib>=2.2->seaborn) (0.11.0)\n",
      "Requirement already satisfied: pyparsing>=2.2.1 in c:\\users\\yashi\\anaconda3\\envs\\project\\lib\\site-packages (from matplotlib>=2.2->seaborn) (3.0.4)\n",
      "Requirement already satisfied: kiwisolver>=1.0.1 in c:\\users\\yashi\\anaconda3\\envs\\project\\lib\\site-packages (from matplotlib>=2.2->seaborn) (1.4.2)\n",
      "Requirement already satisfied: python-dateutil>=2.7 in c:\\users\\yashi\\anaconda3\\envs\\project\\lib\\site-packages (from matplotlib>=2.2->seaborn) (2.8.2)\n",
      "Requirement already satisfied: packaging>=20.0 in c:\\users\\yashi\\anaconda3\\envs\\project\\lib\\site-packages (from matplotlib>=2.2->seaborn) (21.3)\n",
      "Requirement already satisfied: pytz>=2020.1 in c:\\users\\yashi\\anaconda3\\envs\\project\\lib\\site-packages (from pandas>=0.23->seaborn) (2022.1)\n",
      "Requirement already satisfied: six>=1.5 in c:\\users\\yashi\\anaconda3\\envs\\project\\lib\\site-packages (from python-dateutil>=2.7->matplotlib>=2.2->seaborn) (1.16.0)\n",
      "Installing collected packages: seaborn\n",
      "Successfully installed seaborn-0.11.2\n"
     ]
    }
   ],
   "source": [
    "!pip install tweepy\n",
    "!pip install pycryptodome\n",
    "!pip install pycryptodomex\n",
    "!pip install seaborn\n"
   ]
  },
  {
   "cell_type": "code",
   "execution_count": 32,
   "metadata": {},
   "outputs": [
    {
     "name": "stdout",
     "output_type": "stream",
     "text": [
      "Collecting cmake\n",
      "  Downloading cmake-3.22.4-py2.py3-none-win_amd64.whl (38.1 MB)\n",
      "     ---------------------------------------- 38.1/38.1 MB 2.4 MB/s eta 0:00:00\n",
      "Installing collected packages: cmake\n",
      "Successfully installed cmake-3.22.4\n"
     ]
    }
   ],
   "source": [
    "!pip install cmake"
   ]
  },
  {
   "cell_type": "code",
   "execution_count": 33,
   "metadata": {},
   "outputs": [
    {
     "name": "stdout",
     "output_type": "stream",
     "text": [
      "Collecting package metadata (current_repodata.json): ...working... done\n",
      "Solving environment: ...working... done\n",
      "\n",
      "## Package Plan ##\n",
      "\n",
      "Note: you may need to restart the kernel to use updated packages.\n",
      "\n",
      "  environment location: C:\\Users\\yashi\\anaconda3\\envs\\project\n",
      "\n",
      "  added / updated specs:\n",
      "    - dlib\n",
      "\n",
      "\n",
      "The following packages will be downloaded:\n",
      "\n",
      "    package                    |            build\n",
      "    ---------------------------|-----------------\n",
      "    ca-certificates-2022.5.18.1|       h5b45459_0         180 KB  conda-forge\n",
      "    certifi-2022.5.18.1        |   py38haa244fe_0         151 KB  conda-forge\n",
      "    dlib-19.24.0               |   py38h8ec1e2c_0         4.4 MB  conda-forge\n",
      "    intel-openmp-2022.1.0      |    h57928b3_3787         3.7 MB  conda-forge\n",
      "    jpeg-9e                    |       h8ffe710_1         348 KB  conda-forge\n",
      "    libblas-3.9.0              |     14_win64_mkl         5.3 MB  conda-forge\n",
      "    libcblas-3.9.0             |     14_win64_mkl         5.3 MB  conda-forge\n",
      "    liblapack-3.9.0            |     14_win64_mkl         5.3 MB  conda-forge\n",
      "    libpng-1.6.37              |       h1d00b33_2         724 KB  conda-forge\n",
      "    libzlib-1.2.11             |    h8ffe710_1014          64 KB  conda-forge\n",
      "    mkl-2022.0.0               |     h0e2418a_796       181.9 MB  conda-forge\n",
      "    numpy-1.22.3               |   py38h1d2777f_2         6.1 MB  conda-forge\n",
      "    openssl-1.1.1o             |       h8ffe710_0         5.7 MB  conda-forge\n",
      "    python_abi-3.8             |           2_cp38           4 KB  conda-forge\n",
      "    tbb-2021.5.0               |       h2d74725_1         148 KB  conda-forge\n",
      "    zlib-1.2.11                |    h8ffe710_1014         106 KB  conda-forge\n",
      "    ------------------------------------------------------------\n",
      "                                           Total:       219.3 MB\n",
      "\n",
      "The following NEW packages will be INSTALLED:\n",
      "\n",
      "  dlib               conda-forge/win-64::dlib-19.24.0-py38h8ec1e2c_0\n",
      "  intel-openmp       conda-forge/win-64::intel-openmp-2022.1.0-h57928b3_3787\n",
      "  jpeg               conda-forge/win-64::jpeg-9e-h8ffe710_1\n",
      "  libblas            conda-forge/win-64::libblas-3.9.0-14_win64_mkl\n",
      "  libcblas           conda-forge/win-64::libcblas-3.9.0-14_win64_mkl\n",
      "  liblapack          conda-forge/win-64::liblapack-3.9.0-14_win64_mkl\n",
      "  libpng             conda-forge/win-64::libpng-1.6.37-h1d00b33_2\n",
      "  libzlib            conda-forge/win-64::libzlib-1.2.11-h8ffe710_1014\n",
      "  mkl                conda-forge/win-64::mkl-2022.0.0-h0e2418a_796\n",
      "  numpy              conda-forge/win-64::numpy-1.22.3-py38h1d2777f_2\n",
      "  python_abi         conda-forge/win-64::python_abi-3.8-2_cp38\n",
      "  tbb                conda-forge/win-64::tbb-2021.5.0-h2d74725_1\n",
      "  zlib               conda-forge/win-64::zlib-1.2.11-h8ffe710_1014\n",
      "\n",
      "The following packages will be UPDATED:\n",
      "\n",
      "  ca-certificates    pkgs/main::ca-certificates-2022.4.26-~ --> conda-forge::ca-certificates-2022.5.18.1-h5b45459_0\n",
      "\n",
      "The following packages will be SUPERSEDED by a higher-priority channel:\n",
      "\n",
      "  certifi            pkgs/main::certifi-2022.5.18.1-py38ha~ --> conda-forge::certifi-2022.5.18.1-py38haa244fe_0\n",
      "  openssl              pkgs/main::openssl-1.1.1o-h2bbff1b_0 --> conda-forge::openssl-1.1.1o-h8ffe710_0\n",
      "\n",
      "\n",
      "\n",
      "Downloading and Extracting Packages\n",
      "\n",
      "ca-certificates-2022 | 180 KB    |            |   0% \n",
      "ca-certificates-2022 | 180 KB    | 8          |   9% \n",
      "ca-certificates-2022 | 180 KB    | ########## | 100% \n",
      "\n",
      "libcblas-3.9.0       | 5.3 MB    |            |   0% \n",
      "libcblas-3.9.0       | 5.3 MB    |            |   0% \n",
      "libcblas-3.9.0       | 5.3 MB    | ####6      |  47% \n",
      "libcblas-3.9.0       | 5.3 MB    | ########## | 100% \n",
      "\n",
      "intel-openmp-2022.1. | 3.7 MB    |            |   0% \n",
      "intel-openmp-2022.1. | 3.7 MB    | #7         |  18% \n",
      "intel-openmp-2022.1. | 3.7 MB    | ########## | 100% \n",
      "\n",
      "numpy-1.22.3         | 6.1 MB    |            |   0% \n",
      "numpy-1.22.3         | 6.1 MB    | #7         |  17% \n",
      "numpy-1.22.3         | 6.1 MB    | ######2    |  62% \n",
      "numpy-1.22.3         | 6.1 MB    | ########## | 100% \n",
      "\n",
      "dlib-19.24.0         | 4.4 MB    |            |   0% \n",
      "dlib-19.24.0         | 4.4 MB    |            |   0% \n",
      "dlib-19.24.0         | 4.4 MB    | ####       |  40% \n",
      "dlib-19.24.0         | 4.4 MB    | #######7   |  77% \n",
      "dlib-19.24.0         | 4.4 MB    | #########6 |  97% \n",
      "dlib-19.24.0         | 4.4 MB    | ########## | 100% \n",
      "\n",
      "tbb-2021.5.0         | 148 KB    |            |   0% \n",
      "tbb-2021.5.0         | 148 KB    | ########## | 100% \n",
      "\n",
      "libblas-3.9.0        | 5.3 MB    |            |   0% \n",
      "libblas-3.9.0        | 5.3 MB    | #7         |  18% \n",
      "libblas-3.9.0        | 5.3 MB    | ########## | 100% \n",
      "\n",
      "liblapack-3.9.0      | 5.3 MB    |            |   0% \n",
      "liblapack-3.9.0      | 5.3 MB    |            |   0% \n",
      "liblapack-3.9.0      | 5.3 MB    | ########## | 100% \n",
      "\n",
      "libpng-1.6.37        | 724 KB    |            |   0% \n",
      "libpng-1.6.37        | 724 KB    | 2          |   2% \n",
      "libpng-1.6.37        | 724 KB    | ########## | 100% \n",
      "\n",
      "python_abi-3.8       | 4 KB      |            |   0% \n",
      "python_abi-3.8       | 4 KB      | ########## | 100% \n",
      "\n",
      "libzlib-1.2.11       | 64 KB     |            |   0% \n",
      "libzlib-1.2.11       | 64 KB     | ##5        |  25% \n",
      "libzlib-1.2.11       | 64 KB     | ########## | 100% \n",
      "\n",
      "jpeg-9e              | 348 KB    |            |   0% \n",
      "jpeg-9e              | 348 KB    | ########## | 100% \n",
      "\n",
      "openssl-1.1.1o       | 5.7 MB    |            |   0% \n",
      "openssl-1.1.1o       | 5.7 MB    | 7          |   7% \n",
      "openssl-1.1.1o       | 5.7 MB    | #9         |  20% \n",
      "openssl-1.1.1o       | 5.7 MB    | ###4       |  34% \n",
      "openssl-1.1.1o       | 5.7 MB    | ####7      |  47% \n",
      "openssl-1.1.1o       | 5.7 MB    | ######6    |  66% \n",
      "openssl-1.1.1o       | 5.7 MB    | ########5  |  85% \n",
      "openssl-1.1.1o       | 5.7 MB    | ########## | 100% \n",
      "\n",
      "zlib-1.2.11          | 106 KB    |            |   0% \n",
      "zlib-1.2.11          | 106 KB    | ########## | 100% \n",
      "\n",
      "certifi-2022.5.18.1  | 151 KB    |            |   0% \n",
      "certifi-2022.5.18.1  | 151 KB    | ########## | 100% \n",
      "\n",
      "mkl-2022.0.0         | 181.9 MB  |            |   0% \n",
      "mkl-2022.0.0         | 181.9 MB  |            |   0% \n",
      "mkl-2022.0.0         | 181.9 MB  | 1          |   1% \n",
      "mkl-2022.0.0         | 181.9 MB  | 2          |   2% \n",
      "mkl-2022.0.0         | 181.9 MB  | 3          |   4% \n",
      "mkl-2022.0.0         | 181.9 MB  | 5          |   5% \n",
      "mkl-2022.0.0         | 181.9 MB  | 6          |   7% \n",
      "mkl-2022.0.0         | 181.9 MB  | 7          |   8% \n",
      "mkl-2022.0.0         | 181.9 MB  | 8          |   9% \n",
      "mkl-2022.0.0         | 181.9 MB  | #          |  10% \n",
      "mkl-2022.0.0         | 181.9 MB  | #1         |  12% \n",
      "mkl-2022.0.0         | 181.9 MB  | #3         |  13% \n",
      "mkl-2022.0.0         | 181.9 MB  | #4         |  14% \n",
      "mkl-2022.0.0         | 181.9 MB  | #6         |  16% \n",
      "mkl-2022.0.0         | 181.9 MB  | #7         |  17% \n",
      "mkl-2022.0.0         | 181.9 MB  | #8         |  19% \n",
      "mkl-2022.0.0         | 181.9 MB  | ##         |  20% \n",
      "mkl-2022.0.0         | 181.9 MB  | ##1        |  22% \n",
      "mkl-2022.0.0         | 181.9 MB  | ##3        |  23% \n",
      "mkl-2022.0.0         | 181.9 MB  | ##4        |  24% \n",
      "mkl-2022.0.0         | 181.9 MB  | ##5        |  26% \n",
      "mkl-2022.0.0         | 181.9 MB  | ##7        |  27% \n",
      "mkl-2022.0.0         | 181.9 MB  | ##8        |  29% \n",
      "mkl-2022.0.0         | 181.9 MB  | ##9        |  30% \n",
      "mkl-2022.0.0         | 181.9 MB  | ###1       |  31% \n",
      "mkl-2022.0.0         | 181.9 MB  | ###2       |  33% \n",
      "mkl-2022.0.0         | 181.9 MB  | ###3       |  34% \n",
      "mkl-2022.0.0         | 181.9 MB  | ###5       |  35% \n",
      "mkl-2022.0.0         | 181.9 MB  | ###6       |  37% \n",
      "mkl-2022.0.0         | 181.9 MB  | ###8       |  38% \n",
      "mkl-2022.0.0         | 181.9 MB  | ###9       |  39% \n",
      "mkl-2022.0.0         | 181.9 MB  | ####       |  41% \n",
      "mkl-2022.0.0         | 181.9 MB  | ####2      |  43% \n",
      "mkl-2022.0.0         | 181.9 MB  | ####4      |  44% \n",
      "mkl-2022.0.0         | 181.9 MB  | ####5      |  46% \n",
      "mkl-2022.0.0         | 181.9 MB  | ####7      |  47% \n",
      "mkl-2022.0.0         | 181.9 MB  | ####8      |  49% \n",
      "mkl-2022.0.0         | 181.9 MB  | ####9      |  50% \n",
      "mkl-2022.0.0         | 181.9 MB  | #####1     |  52% \n",
      "mkl-2022.0.0         | 181.9 MB  | #####3     |  53% \n",
      "mkl-2022.0.0         | 181.9 MB  | #####4     |  55% \n",
      "mkl-2022.0.0         | 181.9 MB  | #####6     |  56% \n",
      "mkl-2022.0.0         | 181.9 MB  | #####7     |  58% \n",
      "mkl-2022.0.0         | 181.9 MB  | #####9     |  59% \n",
      "mkl-2022.0.0         | 181.9 MB  | ######     |  60% \n",
      "mkl-2022.0.0         | 181.9 MB  | ######2    |  62% \n",
      "mkl-2022.0.0         | 181.9 MB  | ######3    |  63% \n",
      "mkl-2022.0.0         | 181.9 MB  | ######4    |  65% \n",
      "mkl-2022.0.0         | 181.9 MB  | ######5    |  66% \n",
      "mkl-2022.0.0         | 181.9 MB  | ######7    |  67% \n",
      "mkl-2022.0.0         | 181.9 MB  | ######8    |  69% \n",
      "mkl-2022.0.0         | 181.9 MB  | #######    |  71% \n",
      "mkl-2022.0.0         | 181.9 MB  | #######2   |  72% \n",
      "mkl-2022.0.0         | 181.9 MB  | #######3   |  74% \n",
      "mkl-2022.0.0         | 181.9 MB  | #######5   |  75% \n",
      "mkl-2022.0.0         | 181.9 MB  | #######6   |  77% \n",
      "mkl-2022.0.0         | 181.9 MB  | #######7   |  78% \n",
      "mkl-2022.0.0         | 181.9 MB  | #######9   |  79% \n",
      "mkl-2022.0.0         | 181.9 MB  | ########   |  81% \n",
      "mkl-2022.0.0         | 181.9 MB  | ########2  |  82% \n",
      "mkl-2022.0.0         | 181.9 MB  | ########3  |  84% \n",
      "mkl-2022.0.0         | 181.9 MB  | ########5  |  86% \n",
      "mkl-2022.0.0         | 181.9 MB  | ########7  |  88% \n",
      "mkl-2022.0.0         | 181.9 MB  | ########9  |  90% \n",
      "mkl-2022.0.0         | 181.9 MB  | #########1 |  91% \n",
      "mkl-2022.0.0         | 181.9 MB  | #########3 |  93% \n",
      "mkl-2022.0.0         | 181.9 MB  | #########4 |  95% \n",
      "mkl-2022.0.0         | 181.9 MB  | #########6 |  96% \n",
      "mkl-2022.0.0         | 181.9 MB  | #########7 |  98% \n",
      "mkl-2022.0.0         | 181.9 MB  | #########9 |  99% \n",
      "mkl-2022.0.0         | 181.9 MB  | ########## | 100% \n",
      "Preparing transaction: ...working... done\n",
      "Verifying transaction: ...working... done\n",
      "Executing transaction: ...working... done\n"
     ]
    },
    {
     "name": "stderr",
     "output_type": "stream",
     "text": [
      "\n",
      "\n",
      "==> WARNING: A newer version of conda exists. <==\n",
      "  current version: 4.8.2\n",
      "  latest version: 4.12.0\n",
      "\n",
      "Please update conda by running\n",
      "\n",
      "    $ conda update -n base -c defaults conda\n",
      "\n",
      "\n"
     ]
    }
   ],
   "source": [
    "conda install -c conda-forge dlib"
   ]
  },
  {
   "cell_type": "code",
   "execution_count": 34,
   "metadata": {},
   "outputs": [
    {
     "name": "stdout",
     "output_type": "stream",
     "text": [
      "Collecting face-recognition\n",
      "  Downloading face_recognition-1.3.0-py2.py3-none-any.whl (15 kB)\n",
      "Requirement already satisfied: Pillow in c:\\users\\yashi\\anaconda3\\envs\\project\\lib\\site-packages (from face-recognition) (9.1.1)\n",
      "Requirement already satisfied: dlib>=19.7 in c:\\users\\yashi\\anaconda3\\envs\\project\\lib\\site-packages (from face-recognition) (19.24.0)\n",
      "Requirement already satisfied: Click>=6.0 in c:\\users\\yashi\\anaconda3\\envs\\project\\lib\\site-packages (from face-recognition) (8.1.3)\n",
      "Collecting face-recognition-models>=0.3.0\n",
      "  Downloading face_recognition_models-0.3.0.tar.gz (100.1 MB)\n",
      "     -------------------------------------- 100.1/100.1 MB 1.5 MB/s eta 0:00:00\n",
      "  Preparing metadata (setup.py): started\n",
      "  Preparing metadata (setup.py): finished with status 'done'\n",
      "Requirement already satisfied: numpy in c:\\users\\yashi\\appdata\\roaming\\python\\python38\\site-packages (from face-recognition) (1.18.5)\n",
      "Requirement already satisfied: colorama in c:\\users\\yashi\\anaconda3\\envs\\project\\lib\\site-packages (from Click>=6.0->face-recognition) (0.4.4)\n",
      "Building wheels for collected packages: face-recognition-models\n",
      "  Building wheel for face-recognition-models (setup.py): started\n",
      "  Building wheel for face-recognition-models (setup.py): finished with status 'done'\n",
      "  Created wheel for face-recognition-models: filename=face_recognition_models-0.3.0-py2.py3-none-any.whl size=100566170 sha256=b19009db932475da24db60efb8929ac6c3bfcc26c8f6396715c078bbbf1b0f73\n",
      "  Stored in directory: c:\\users\\yashi\\appdata\\local\\pip\\cache\\wheels\\b4\\4b\\8f\\751e99d45f089bdf366a7d3e5066db3c2b84a62e4377f534d7\n",
      "Successfully built face-recognition-models\n",
      "Installing collected packages: face-recognition-models, face-recognition\n",
      "Successfully installed face-recognition-1.3.0 face-recognition-models-0.3.0\n"
     ]
    }
   ],
   "source": [
    "!pip install face-recognition"
   ]
  },
  {
   "cell_type": "code",
   "execution_count": null,
   "metadata": {},
   "outputs": [],
   "source": []
  }
 ],
 "metadata": {
  "kernelspec": {
   "display_name": "Python 3 (ipykernel)",
   "language": "python",
   "name": "python3"
  },
  "language_info": {
   "codemirror_mode": {
    "name": "ipython",
    "version": 3
   },
   "file_extension": ".py",
   "mimetype": "text/x-python",
   "name": "python",
   "nbconvert_exporter": "python",
   "pygments_lexer": "ipython3",
   "version": "3.8.13"
  }
 },
 "nbformat": 4,
 "nbformat_minor": 4
}
